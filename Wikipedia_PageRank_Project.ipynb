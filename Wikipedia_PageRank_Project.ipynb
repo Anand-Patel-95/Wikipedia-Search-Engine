{
 "cells": [
  {
   "cell_type": "markdown",
   "metadata": {
    "application/vnd.databricks.v1+cell": {
     "inputWidgets": {},
     "nuid": "cbf797c6-e2b8-4064-830b-1d2415c35c20",
     "showTitle": false,
     "title": ""
    }
   },
   "source": [
    "# ANAND PATEL"
   ]
  },
  {
   "cell_type": "markdown",
   "metadata": {
    "application/vnd.databricks.v1+cell": {
     "inputWidgets": {},
     "nuid": "0effe584-e230-4946-9fce-0bdf57057870",
     "showTitle": false,
     "title": ""
    }
   },
   "source": [
    "# Wikipedia Page Rank\n",
    "__`MIDS w261: Machine Learning at Scale | UC Berkeley School of Information | Spring 2022`__\n",
    "\n",
    "Implement distributed PageRank using some data from Wikipedia.\n",
    "By the end of this notebook we:  \n",
    "* ... __compare/contrast__ adjacency matrices and lists as representations of graphs for parallel computation.\n",
    "* ... __explain__ the goal of the PageRank algorithm using the concept of an infinite Random Walk.\n",
    "* ... __define__ a Markov chain including the conditions underwhich it will converge.\n",
    "* ... __identify__ what modifications must be made to the web graph inorder to leverage Markov Chains.\n",
    "* ... __implement__ distributed PageRank in Spark.\n",
    "\n",
    "---\n",
    "Completed in Databricks"
   ]
  },
  {
   "cell_type": "markdown",
   "metadata": {
    "application/vnd.databricks.v1+cell": {
     "inputWidgets": {},
     "nuid": "99aff6fd-b33f-4eea-b749-a2e30693264e",
     "showTitle": false,
     "title": ""
    }
   },
   "source": [
    "# Notebook Set-Up\n",
    "Before starting run the following cells to confirm your setup."
   ]
  },
  {
   "cell_type": "code",
   "execution_count": 0,
   "metadata": {
    "application/vnd.databricks.v1+cell": {
     "inputWidgets": {},
     "nuid": "c7b1a2bf-d888-4ea4-8e26-bef39212cd9b",
     "showTitle": false,
     "title": ""
    }
   },
   "outputs": [
    {
     "data": {
      "text/html": [
       "<style scoped>\n",
       "  .ansiout {\n",
       "    display: block;\n",
       "    unicode-bidi: embed;\n",
       "    white-space: pre-wrap;\n",
       "    word-wrap: break-word;\n",
       "    word-break: break-all;\n",
       "    font-family: \"Source Code Pro\", \"Menlo\", monospace;;\n",
       "    font-size: 13px;\n",
       "    color: #555;\n",
       "    margin-left: 4px;\n",
       "    line-height: 19px;\n",
       "  }\n",
       "</style>\n",
       "<div class=\"ansiout\"></div>"
      ]
     },
     "metadata": {
      "application/vnd.databricks.v1+output": {
       "addedWidgets": {},
       "arguments": {},
       "data": "<div class=\"ansiout\"></div>",
       "datasetInfos": [],
       "metadata": {},
       "removedWidgets": [],
       "type": "html"
      }
     },
     "output_type": "display_data"
    }
   ],
   "source": [
    "# imports\n",
    "import re\n",
    "import ast\n",
    "import time\n",
    "import numpy as np\n",
    "import pandas as pd\n",
    "import seaborn as sns\n",
    "import networkx as nx\n",
    "import matplotlib.pyplot as plt\n",
    "import pickle"
   ]
  },
  {
   "cell_type": "code",
   "execution_count": 0,
   "metadata": {
    "application/vnd.databricks.v1+cell": {
     "inputWidgets": {},
     "nuid": "cffab456-6504-446a-a593-3880401b2b72",
     "showTitle": false,
     "title": ""
    }
   },
   "outputs": [
    {
     "data": {
      "text/html": [
       "<style scoped>\n",
       "  .ansiout {\n",
       "    display: block;\n",
       "    unicode-bidi: embed;\n",
       "    white-space: pre-wrap;\n",
       "    word-wrap: break-word;\n",
       "    word-break: break-all;\n",
       "    font-family: \"Source Code Pro\", \"Menlo\", monospace;;\n",
       "    font-size: 13px;\n",
       "    color: #555;\n",
       "    margin-left: 4px;\n",
       "    line-height: 19px;\n",
       "  }\n",
       "</style>\n",
       "<div class=\"ansiout\">Out[2]: 4751198766</div>"
      ]
     },
     "metadata": {
      "application/vnd.databricks.v1+output": {
       "addedWidgets": {},
       "arguments": {},
       "data": "<div class=\"ansiout\">Out[2]: 4751198766</div>",
       "datasetInfos": [],
       "metadata": {},
       "removedWidgets": [],
       "type": "html"
      }
     },
     "output_type": "display_data"
    }
   ],
   "source": [
    "# RUN THIS CELL AS IS. \n",
    "tot = 0\n",
    "DATA_PATH = 'dbfs:/mnt/mids-w261/HW5/'\n",
    "for item in dbutils.fs.ls(DATA_PATH):\n",
    "  tot = tot+item.size\n",
    "tot\n",
    "# ~4.7GB"
   ]
  },
  {
   "cell_type": "code",
   "execution_count": 0,
   "metadata": {
    "application/vnd.databricks.v1+cell": {
     "inputWidgets": {},
     "nuid": "752a5aae-3896-497e-868a-c2a3df6151e1",
     "showTitle": false,
     "title": ""
    }
   },
   "outputs": [
    {
     "data": {
      "text/html": [
       "<style scoped>\n",
       "  .table-result-container {\n",
       "    max-height: 300px;\n",
       "    overflow: auto;\n",
       "  }\n",
       "  table, th, td {\n",
       "    border: 1px solid black;\n",
       "    border-collapse: collapse;\n",
       "  }\n",
       "  th, td {\n",
       "    padding: 5px;\n",
       "  }\n",
       "  th {\n",
       "    text-align: left;\n",
       "  }\n",
       "</style><div class='table-result-container'><table class='table-result'><thead style='background-color: white'><tr><th>path</th><th>name</th><th>size</th></tr></thead><tbody><tr><td>dbfs:/mnt/mids-w261/HW5/all-pages-indexed-in.txt</td><td>all-pages-indexed-in.txt</td><td>2143300687</td></tr><tr><td>dbfs:/mnt/mids-w261/HW5/all-pages-indexed-out.txt</td><td>all-pages-indexed-out.txt</td><td>2090459616</td></tr><tr><td>dbfs:/mnt/mids-w261/HW5/indices.txt</td><td>indices.txt</td><td>517438296</td></tr><tr><td>dbfs:/mnt/mids-w261/HW5/test_graph.txt</td><td>test_graph.txt</td><td>167</td></tr></tbody></table></div>"
      ]
     },
     "metadata": {
      "application/vnd.databricks.v1+output": {
       "addedWidgets": {},
       "aggData": [],
       "aggError": "",
       "aggOverflow": false,
       "aggSchema": [],
       "aggSeriesLimitReached": false,
       "aggType": "",
       "arguments": {},
       "columnCustomDisplayInfos": {},
       "data": [
        [
         "dbfs:/mnt/mids-w261/HW5/all-pages-indexed-in.txt",
         "all-pages-indexed-in.txt",
         2143300687
        ],
        [
         "dbfs:/mnt/mids-w261/HW5/all-pages-indexed-out.txt",
         "all-pages-indexed-out.txt",
         2090459616
        ],
        [
         "dbfs:/mnt/mids-w261/HW5/indices.txt",
         "indices.txt",
         517438296
        ],
        [
         "dbfs:/mnt/mids-w261/HW5/test_graph.txt",
         "test_graph.txt",
         167
        ]
       ],
       "datasetInfos": [],
       "dbfsResultPath": null,
       "isJsonSchema": true,
       "metadata": {},
       "overflow": false,
       "plotOptions": {
        "customPlotOptions": {},
        "displayType": "table",
        "pivotAggregation": null,
        "pivotColumns": [],
        "xColumns": [],
        "yColumns": []
       },
       "removedWidgets": [],
       "schema": [
        {
         "metadata": "{}",
         "name": "path",
         "type": "\"string\""
        },
        {
         "metadata": "{}",
         "name": "name",
         "type": "\"string\""
        },
        {
         "metadata": "{}",
         "name": "size",
         "type": "\"long\""
        }
       ],
       "type": "table"
      }
     },
     "output_type": "display_data"
    }
   ],
   "source": [
    "# RUN THIS CELL AS IS. You should see all-pages-indexed-in.txt, all-pages-indexed-out.txt and indices.txt in the results. If you do not see these, please let an Instructor or TA know.\n",
    "display(dbutils.fs.ls(DATA_PATH))"
   ]
  },
  {
   "cell_type": "code",
   "execution_count": 0,
   "metadata": {
    "application/vnd.databricks.v1+cell": {
     "inputWidgets": {},
     "nuid": "5ce05cf4-4c22-4a4d-87fa-dba08c17e221",
     "showTitle": false,
     "title": ""
    }
   },
   "outputs": [
    {
     "data": {
      "text/html": [
       "<style scoped>\n",
       "  .ansiout {\n",
       "    display: block;\n",
       "    unicode-bidi: embed;\n",
       "    white-space: pre-wrap;\n",
       "    word-wrap: break-word;\n",
       "    word-break: break-all;\n",
       "    font-family: \"Source Code Pro\", \"Menlo\", monospace;;\n",
       "    font-size: 13px;\n",
       "    color: #555;\n",
       "    margin-left: 4px;\n",
       "    line-height: 19px;\n",
       "  }\n",
       "</style>\n",
       "<div class=\"ansiout\">Out[4]: </div>"
      ]
     },
     "metadata": {
      "application/vnd.databricks.v1+output": {
       "addedWidgets": {},
       "arguments": {},
       "data": "<div class=\"ansiout\">Out[4]: </div>",
       "datasetInfos": [],
       "metadata": {},
       "removedWidgets": [],
       "type": "html"
      }
     },
     "output_type": "display_data"
    },
    {
     "data": {
      "text/html": [
       "\n",
       "            <div>\n",
       "                <p><b>SparkSession - hive</b></p>\n",
       "                \n",
       "        <div>\n",
       "            <p><b>SparkContext</b></p>\n",
       "\n",
       "            <p><a href=\"/?o=731998097721284#setting/sparkui/0303-033926-ysrxek44/driver-2435244122549485384\">Spark UI</a></p>\n",
       "\n",
       "            <dl>\n",
       "              <dt>Version</dt>\n",
       "                <dd><code>v3.1.2</code></dd>\n",
       "              <dt>Master</dt>\n",
       "                <dd><code>spark://10.139.64.28:7077</code></dd>\n",
       "              <dt>AppName</dt>\n",
       "                <dd><code>Databricks Shell</code></dd>\n",
       "            </dl>\n",
       "        </div>\n",
       "        \n",
       "            </div>\n",
       "        "
      ]
     },
     "metadata": {
      "application/vnd.databricks.v1+output": {
       "addedWidgets": {},
       "arguments": {},
       "data": "\n            <div>\n                <p><b>SparkSession - hive</b></p>\n                \n        <div>\n            <p><b>SparkContext</b></p>\n\n            <p><a href=\"/?o=731998097721284#setting/sparkui/0303-033926-ysrxek44/driver-2435244122549485384\">Spark UI</a></p>\n\n            <dl>\n              <dt>Version</dt>\n                <dd><code>v3.1.2</code></dd>\n              <dt>Master</dt>\n                <dd><code>spark://10.139.64.28:7077</code></dd>\n              <dt>AppName</dt>\n                <dd><code>Databricks Shell</code></dd>\n            </dl>\n        </div>\n        \n            </div>\n        ",
       "datasetInfos": [],
       "metadata": {},
       "removedWidgets": [],
       "textData": null,
       "type": "htmlSandbox"
      }
     },
     "output_type": "display_data"
    }
   ],
   "source": [
    "sc = spark.sparkContext\n",
    "spark"
   ]
  },
  {
   "cell_type": "markdown",
   "metadata": {
    "application/vnd.databricks.v1+cell": {
     "inputWidgets": {},
     "nuid": "e775bbc8-f83c-405f-859e-70dc52994def",
     "showTitle": false,
     "title": ""
    }
   },
   "source": [
    "# Question 1: Distributed Graph Processing\n",
    "Chapter 5 from Lin & Dyer gave you a high level introduction to graph algorithms and concernts that come up when trying to perform distributed computations over them. The questions below are designed to make sure you captured the key points from this reading and your async lectures. \n",
    "\n",
    "### Q1 Tasks:\n",
    "\n",
    "* __a) short response:__ Give an example of a dataset that would be appropriate to represent as a graph. What are the nodes/edges in this dataset? Is the graph you describe 'directed' or 'undirected'? What would the average \"in-degree\" of a node mean in the context of your example? \n",
    "\n",
    "* __b) short response:__ Other than their size/scale, what makes graphs uniquely challenging to work with in the map-reduce paradigm? *(__HINT__: Do not respond in terms of any specific algorithm. Think in terms of the nature of the graph datastructure itself).*\n",
    "\n",
    "* __c) short response:__ Briefly describe Dijskra's algorithm (goal/approach). What specific design component makes this approach hard to parallelize?\n",
    "\n",
    "* __d) short response:__ How does parallel breadth-first-search get around the problem that you identified in part `c`? At what expense?"
   ]
  },
  {
   "cell_type": "markdown",
   "metadata": {
    "application/vnd.databricks.v1+cell": {
     "inputWidgets": {},
     "nuid": "5ddf575d-c9d8-4228-bd60-9300256ec27d",
     "showTitle": false,
     "title": ""
    }
   },
   "source": [
    "### Q1 Student Answers:\n",
    "> __a)__ A social network dataset, like from Facebook or Instagram, would be appropriate to represent as a graph. Let's take Instagram as our example. The nodes would be individual accounts/user profiles and the edges between a starting and ending node would represent if the starting user follows the ending user. The graph is directed because each edge indicates the first account following the second account, and this interaction is one-way. A seperate edge going from account 2 to account 1 is needed to show a \"follow back\". The average in-degree of a node means the number of accounts following the particular account associated with this node.\n",
    "\n",
    "> __b)__ Graphs are hard to work with in map-reduce paradigm because each edge references information about other nodes. Since nodes have information about other nodes, it can be hard to process each node as an individual record.\n",
    "\n",
    "> __c)__ Dijskra's algorithm finds the single source shortest path on a weighted graph. While exploring the graph from the starting node, it uses a priority queue to keep track of a frontier of nodes to expand next. The priority is deceided by the order of their total distance from the starting node. If a shorter distance to a node from the starting node is found, that distance replaces the longer path. The priority queue is used to choose the next node to expand, and the one with the shortest distance to start is popped from the queue. Once the queue is empty, all the shortest paths from our starting node have been discovered.\n",
    ">\n",
    "> This algorithm is hard to parallelize because we would need to keep a priority queue in memory for all workers, and this does not scale well with a large graph where we might have many nodes in the queue at a time. \n",
    ">\n",
    "> Insertion into priority queue is a sequential operation. \n",
    "\n",
    "> __d)__ Parallel BFS solves this problem by adding a field to keep track of the node's status (`unvisited`, `queue`, `visited`) to tell the algorithm if each node/record should be expanded. This gets rid of a priority queue that would have tracked the nodes to be visited next.\n",
    "> \n",
    "> The expense of this design is that we need to do multiple iterations over the entire dataset to change and process these node statuses as we explore all the nodes in the graph."
   ]
  },
  {
   "cell_type": "markdown",
   "metadata": {
    "application/vnd.databricks.v1+cell": {
     "inputWidgets": {},
     "nuid": "8fb300e8-c47d-4887-9d62-5b05e809d477",
     "showTitle": false,
     "title": ""
    }
   },
   "source": [
    "# Question 2: Representing Graphs \n",
    "\n",
    "In class you saw examples of adjacency matrix and adjacency list representations of graphs. These data structures were probably familiar from HW3, though we hadn't before talked about them in the context of graphs. In this question we'll discuss some of the tradeoffs associated with these representations. __`NOTE:`__ We'll use the graph from Figure 5.1 in Lin & Dyer as a toy example. For convenience in the code below we'll label the nodes `A`, `B`, `C`, `D`, and `E` instead of $n_1$, $n_2$, etc but otherwise you should be able to follow along & check our answers against those in the text.\n",
    "\n",
    "\n",
    "<img src=\"https://github.com/kyleiwaniec/w261_assets/blob/master/images/HW5/Lin-Dyer-graph-Q1.png?raw=true\" width=50%>\n",
    "\n",
    "### Q2 Tasks:\n",
    "\n",
    "* __a) short response:__ Relatively speaking, is the graph you described in Figure 5.1 in Lin & Dyer \"sparse\" or \"dense\"?  Explain how sparsity/density impacts the adjacency matrix and adjacency list representations of a graph.\n",
    "\n",
    "* __b) short response:__ Run the provided code to create and plot our toy graph. Is this graph directed or undirected? Explain how the adjacency matrices for directed graphs will differ from those of undirected graphs.\n",
    "\n",
    "* __c) code:__ Fill in the missing code to complete the function `get_adj_matr()`.\n",
    "\n",
    "* __d) code:__ Fill in the missing code to complete the function `get_adj_list()`."
   ]
  },
  {
   "cell_type": "markdown",
   "metadata": {
    "application/vnd.databricks.v1+cell": {
     "inputWidgets": {},
     "nuid": "6fc2815b-9e04-4a6b-9957-87c0eb28a6ea",
     "showTitle": false,
     "title": ""
    }
   },
   "source": [
    "### Q2 Student Answers:\n",
    "> __a)__ This graph from figure 5.1 in Lin & Dyer is sparse. There are mostly 0 entries in the adjacency matrix (16/25 possible edges are 0), making the graph sparse. A sparse graph will include fewer potential edges between all nodes, and the adjacency matrix will have more 0 entries there as a result. This representation is not memory efficient because we are storing data on all these 0 entries. On the other hand, the adjacency lists for a sparse matrix are short for each node and much more efficient for memory storage because we do not need to store 0's. We just store 1's.\n",
    "\n",
    "> __b)__ This is a directed graph because we see edges as 1-way, arrow connections between nodes. There is an edge from A to B, and this is only one way. We would need an edge from B to A as a seperate relationship in this graph. Adjacency matricies for directed graphs require the order to matter, and are not symmetrical like they are for undirected graphs. This means that an entry for (A,B) can have a different value than (B,A) as we do here (`1`, and `0` respectively)."
   ]
  },
  {
   "cell_type": "code",
   "execution_count": 0,
   "metadata": {
    "application/vnd.databricks.v1+cell": {
     "inputWidgets": {},
     "nuid": "a94415c2-c114-4dda-81a8-8af826b03a91",
     "showTitle": false,
     "title": ""
    }
   },
   "outputs": [
    {
     "data": {
      "text/html": [
       "<style scoped>\n",
       "  .ansiout {\n",
       "    display: block;\n",
       "    unicode-bidi: embed;\n",
       "    white-space: pre-wrap;\n",
       "    word-wrap: break-word;\n",
       "    word-break: break-all;\n",
       "    font-family: \"Source Code Pro\", \"Menlo\", monospace;;\n",
       "    font-size: 13px;\n",
       "    color: #555;\n",
       "    margin-left: 4px;\n",
       "    line-height: 19px;\n",
       "  }\n",
       "</style>\n",
       "<div class=\"ansiout\"></div>"
      ]
     },
     "metadata": {
      "application/vnd.databricks.v1+output": {
       "addedWidgets": {},
       "arguments": {},
       "data": "<div class=\"ansiout\"></div>",
       "datasetInfos": [],
       "metadata": {},
       "removedWidgets": [],
       "type": "html"
      }
     },
     "output_type": "display_data"
    }
   ],
   "source": [
    "# part a - a graph is just a list of nodes and edges (RUN THIS CELL AS IS)\n",
    "TOY_GRAPH = {'nodes':['A', 'B', 'C', 'D', 'E'],\n",
    "             'edges':[('A', 'B'), ('A', 'D'), ('B', 'C'), ('B', 'E'), ('C', 'D'), \n",
    "                      ('D', 'E'), ('E', 'A'),('E', 'B'), ('E', 'C')]}"
   ]
  },
  {
   "cell_type": "code",
   "execution_count": 0,
   "metadata": {
    "application/vnd.databricks.v1+cell": {
     "inputWidgets": {},
     "nuid": "e1f57952-e6d0-4db1-ae0c-c29afabc334f",
     "showTitle": false,
     "title": ""
    }
   },
   "outputs": [
    {
     "data": {
      "image/png": "[encoded data removed]"
     },
     "metadata": {
      "application/vnd.databricks.v1+output": {
       "addedWidgets": {},
       "arguments": {},
       "data": "data:image/png;base64,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",
       "datasetInfos": [],
       "metadata": {
        "imageDimensions": {
         "height": 302,
         "width": 446
        }
       },
       "removedWidgets": [],
       "type": "image"
      },
      "image/png": {
       "height": 302,
       "width": 446
      }
     },
     "output_type": "display_data"
    }
   ],
   "source": [
    "# part a - simple visualization of our toy graph using nx (RUN THIS CELL AS IS)\n",
    "G = nx.DiGraph()\n",
    "G.add_nodes_from(TOY_GRAPH['nodes'])\n",
    "G.add_edges_from(TOY_GRAPH['edges'])\n",
    "display(nx.draw(G, pos=nx.circular_layout(G), with_labels=True, alpha = 0.5))"
   ]
  },
  {
   "cell_type": "code",
   "execution_count": 0,
   "metadata": {
    "application/vnd.databricks.v1+cell": {
     "inputWidgets": {},
     "nuid": "4dcb6bee-cff7-4180-9638-3b35d9d26330",
     "showTitle": false,
     "title": ""
    }
   },
   "outputs": [
    {
     "data": {
      "text/html": [
       "<style scoped>\n",
       "  .ansiout {\n",
       "    display: block;\n",
       "    unicode-bidi: embed;\n",
       "    white-space: pre-wrap;\n",
       "    word-wrap: break-word;\n",
       "    word-break: break-all;\n",
       "    font-family: \"Source Code Pro\", \"Menlo\", monospace;;\n",
       "    font-size: 13px;\n",
       "    color: #555;\n",
       "    margin-left: 4px;\n",
       "    line-height: 19px;\n",
       "  }\n",
       "</style>\n",
       "<div class=\"ansiout\">[(&#39;A&#39;, &#39;B&#39;), (&#39;A&#39;, &#39;D&#39;), (&#39;B&#39;, &#39;C&#39;), (&#39;B&#39;, &#39;E&#39;), (&#39;C&#39;, &#39;D&#39;), (&#39;D&#39;, &#39;E&#39;), (&#39;E&#39;, &#39;A&#39;), (&#39;E&#39;, &#39;B&#39;), (&#39;E&#39;, &#39;C&#39;)]\n",
       "</div>"
      ]
     },
     "metadata": {
      "application/vnd.databricks.v1+output": {
       "addedWidgets": {},
       "arguments": {},
       "data": "<div class=\"ansiout\">[(&#39;A&#39;, &#39;B&#39;), (&#39;A&#39;, &#39;D&#39;), (&#39;B&#39;, &#39;C&#39;), (&#39;B&#39;, &#39;E&#39;), (&#39;C&#39;, &#39;D&#39;), (&#39;D&#39;, &#39;E&#39;), (&#39;E&#39;, &#39;A&#39;), (&#39;E&#39;, &#39;B&#39;), (&#39;E&#39;, &#39;C&#39;)]\n</div>",
       "datasetInfos": [],
       "metadata": {},
       "removedWidgets": [],
       "type": "html"
      }
     },
     "output_type": "display_data"
    }
   ],
   "source": [
    "print(TOY_GRAPH[\"edges\"])"
   ]
  },
  {
   "cell_type": "code",
   "execution_count": 0,
   "metadata": {
    "application/vnd.databricks.v1+cell": {
     "inputWidgets": {},
     "nuid": "71f8e273-1fef-4f41-8252-8b4b712e8489",
     "showTitle": false,
     "title": ""
    }
   },
   "outputs": [
    {
     "data": {
      "text/html": [
       "<style scoped>\n",
       "  .ansiout {\n",
       "    display: block;\n",
       "    unicode-bidi: embed;\n",
       "    white-space: pre-wrap;\n",
       "    word-wrap: break-word;\n",
       "    word-break: break-all;\n",
       "    font-family: \"Source Code Pro\", \"Menlo\", monospace;;\n",
       "    font-size: 13px;\n",
       "    color: #555;\n",
       "    margin-left: 4px;\n",
       "    line-height: 19px;\n",
       "  }\n",
       "</style>\n",
       "<div class=\"ansiout\"></div>"
      ]
     },
     "metadata": {
      "application/vnd.databricks.v1+output": {
       "addedWidgets": {},
       "arguments": {},
       "data": "<div class=\"ansiout\"></div>",
       "datasetInfos": [],
       "metadata": {},
       "removedWidgets": [],
       "type": "html"
      }
     },
     "output_type": "display_data"
    }
   ],
   "source": [
    "# part c - adjacency matrix function\n",
    "def get_adj_matr(graph):\n",
    "    \"\"\"\n",
    "    Function to create an adjacency matrix representation of a graph.\n",
    "    arg:\n",
    "        graph - (dict) of 'nodes' : [], 'edges' : []\n",
    "    returns:\n",
    "        pd.DataFrame with entry i,j representing an edge from node i to node j\n",
    "    \"\"\"\n",
    "    n = len(graph['nodes'])\n",
    "    adj_matr = pd.DataFrame(0, columns = graph['nodes'], index = graph['nodes'])\n",
    "    ############### YOUR CODE HERE ##################\n",
    "    for edge in graph[\"edges\"]:\n",
    "      start_n, end_n = edge\n",
    "      adj_matr[end_n][start_n] = 1\n",
    "    ############### (END) YOUR CODE #################\n",
    "    return adj_matr"
   ]
  },
  {
   "cell_type": "code",
   "execution_count": 0,
   "metadata": {
    "application/vnd.databricks.v1+cell": {
     "inputWidgets": {},
     "nuid": "a1c6db84-d4df-4835-9a7f-185f7d3d1231",
     "showTitle": false,
     "title": ""
    }
   },
   "outputs": [
    {
     "data": {
      "text/html": [
       "<style scoped>\n",
       "  .ansiout {\n",
       "    display: block;\n",
       "    unicode-bidi: embed;\n",
       "    white-space: pre-wrap;\n",
       "    word-wrap: break-word;\n",
       "    word-break: break-all;\n",
       "    font-family: \"Source Code Pro\", \"Menlo\", monospace;;\n",
       "    font-size: 13px;\n",
       "    color: #555;\n",
       "    margin-left: 4px;\n",
       "    line-height: 19px;\n",
       "  }\n",
       "</style>\n",
       "<div class=\"ansiout\">   A  B  C  D  E\n",
       "A  0  1  0  1  0\n",
       "B  0  0  1  0  1\n",
       "C  0  0  0  1  0\n",
       "D  0  0  0  0  1\n",
       "E  1  1  1  0  0\n",
       "</div>"
      ]
     },
     "metadata": {
      "application/vnd.databricks.v1+output": {
       "addedWidgets": {},
       "arguments": {},
       "data": "<div class=\"ansiout\">   A  B  C  D  E\nA  0  1  0  1  0\nB  0  0  1  0  1\nC  0  0  0  1  0\nD  0  0  0  0  1\nE  1  1  1  0  0\n</div>",
       "datasetInfos": [],
       "metadata": {},
       "removedWidgets": [],
       "type": "html"
      }
     },
     "output_type": "display_data"
    }
   ],
   "source": [
    "# part c - take a look (RUN THIS CELL AS IS)\n",
    "TOY_ADJ_MATR = get_adj_matr(TOY_GRAPH)\n",
    "print(TOY_ADJ_MATR)"
   ]
  },
  {
   "cell_type": "code",
   "execution_count": 0,
   "metadata": {
    "application/vnd.databricks.v1+cell": {
     "inputWidgets": {},
     "nuid": "1164091e-45c2-49b3-9231-279881ab8a55",
     "showTitle": false,
     "title": ""
    }
   },
   "outputs": [
    {
     "data": {
      "text/html": [
       "<style scoped>\n",
       "  .ansiout {\n",
       "    display: block;\n",
       "    unicode-bidi: embed;\n",
       "    white-space: pre-wrap;\n",
       "    word-wrap: break-word;\n",
       "    word-break: break-all;\n",
       "    font-family: \"Source Code Pro\", \"Menlo\", monospace;;\n",
       "    font-size: 13px;\n",
       "    color: #555;\n",
       "    margin-left: 4px;\n",
       "    line-height: 19px;\n",
       "  }\n",
       "</style>\n",
       "<div class=\"ansiout\"></div>"
      ]
     },
     "metadata": {
      "application/vnd.databricks.v1+output": {
       "addedWidgets": {},
       "arguments": {},
       "data": "<div class=\"ansiout\"></div>",
       "datasetInfos": [],
       "metadata": {},
       "removedWidgets": [],
       "type": "html"
      }
     },
     "output_type": "display_data"
    }
   ],
   "source": [
    "# part d - adjacency list function\n",
    "def get_adj_list(graph):\n",
    "    \"\"\"\n",
    "    Function to create an adjacency list representation of a graph.\n",
    "    arg:\n",
    "        graph - (dict) of 'nodes' : [], 'edges' : []\n",
    "    returns:\n",
    "        dictionary of the form {node : [list of edges]}\n",
    "    \"\"\"\n",
    "    adj_list = {node: [] for node in graph['nodes']}\n",
    "    ############### YOUR CODE HERE ##################\n",
    "    for edge in graph[\"edges\"]:\n",
    "      start_n, end_n = edge\n",
    "      adj_list[start_n].append(end_n)\n",
    "    \n",
    "    ############### (END) YOUR CODE #################\n",
    "    return adj_list"
   ]
  },
  {
   "cell_type": "code",
   "execution_count": 0,
   "metadata": {
    "application/vnd.databricks.v1+cell": {
     "inputWidgets": {},
     "nuid": "5562cd99-8ea7-4c8f-b85b-0823abc46bbf",
     "showTitle": false,
     "title": ""
    }
   },
   "outputs": [
    {
     "data": {
      "text/html": [
       "<style scoped>\n",
       "  .ansiout {\n",
       "    display: block;\n",
       "    unicode-bidi: embed;\n",
       "    white-space: pre-wrap;\n",
       "    word-wrap: break-word;\n",
       "    word-break: break-all;\n",
       "    font-family: \"Source Code Pro\", \"Menlo\", monospace;;\n",
       "    font-size: 13px;\n",
       "    color: #555;\n",
       "    margin-left: 4px;\n",
       "    line-height: 19px;\n",
       "  }\n",
       "</style>\n",
       "<div class=\"ansiout\">{&#39;A&#39;: [&#39;B&#39;, &#39;D&#39;], &#39;B&#39;: [&#39;C&#39;, &#39;E&#39;], &#39;C&#39;: [&#39;D&#39;], &#39;D&#39;: [&#39;E&#39;], &#39;E&#39;: [&#39;A&#39;, &#39;B&#39;, &#39;C&#39;]}\n",
       "</div>"
      ]
     },
     "metadata": {
      "application/vnd.databricks.v1+output": {
       "addedWidgets": {},
       "arguments": {},
       "data": "<div class=\"ansiout\">{&#39;A&#39;: [&#39;B&#39;, &#39;D&#39;], &#39;B&#39;: [&#39;C&#39;, &#39;E&#39;], &#39;C&#39;: [&#39;D&#39;], &#39;D&#39;: [&#39;E&#39;], &#39;E&#39;: [&#39;A&#39;, &#39;B&#39;, &#39;C&#39;]}\n</div>",
       "datasetInfos": [],
       "metadata": {},
       "removedWidgets": [],
       "type": "html"
      }
     },
     "output_type": "display_data"
    }
   ],
   "source": [
    "# part d - take a look (RUN THIS CELL AS IS)\n",
    "TOY_ADJ_LIST = get_adj_list(TOY_GRAPH)\n",
    "print(TOY_ADJ_LIST)"
   ]
  },
  {
   "cell_type": "markdown",
   "metadata": {
    "application/vnd.databricks.v1+cell": {
     "inputWidgets": {},
     "nuid": "2ce119d6-90ca-4141-9650-80e822f08219",
     "showTitle": false,
     "title": ""
    }
   },
   "source": [
    "# Question 3: Markov Chains and Random Walks\n",
    "\n",
    "As you know from your readings and in class discussions, the PageRank algorithm takes advantage of the machinery of Markov Chains to compute the relative importance of a webpage using the hyperlink structure of the web (we'll refer to this as the 'web-graph'). A Markov Chain is a discrete-time stochastic process. The stochastic matrix has a principal left eigen vector corresponding to its largest eigen value which is one. A Markov chain's probability distribution over its states may be viewed as a probability vector. This steady state probability for a state is the PageRank of the corresponding webpage. In this question we'll briefly discuss a few concepts that are key to understanding the math behind PageRank. \n",
    "\n",
    "### Q3 Tasks:\n",
    "\n",
    "* __a) short response:__ It is common to explain PageRank using the analogy of a web surfer who clicks on links at random ad infinitum. In the context of this hypothetical infinite random walk, what does the PageRank metric measure/represent?\n",
    "\n",
    "* __b) short response:__ What is the \"Markov Property\" and what does it mean in the context of PageRank?\n",
    "\n",
    "* __c) short response:__ A Markov chain consists of $n$ states plus an $n\\times n$ transition probability matrix. In the context of PageRank & a random walk over the WebGraph what are the $n$ states? what implications does this have about the size of the transition matrix?\n",
    "\n",
    "* __d) code + short response:__ What is a \"right stochastic matrix\"? Fill in the code below to compute the transition matrix for the toy graph from question 2. [__`HINT:`__ _It should be right stochastic. Using numpy this calculation can be done in one line of code._]\n",
    "\n",
    "* __e) code + short response:__ To compute the stable state distribution (i.e. PageRank) of a \"nice\" graph we can apply the power iteration method - repeatedly multiplying the transition matrix by itself, until the values no longer change. Apply this strategy to your transition matrix from `part d` to find the PageRank for each of the pages in your toy graph. Your code should print the results of each iteration. How many iterations does it take to converge? Which node is most 'central' (i.e. highest ranked)? Does this match your intuition? \n",
    "    * __`NOTE 1:`__ _this is a naive approach, we'll unpack what it means to be \"nice\" in the next question_.\n",
    "    * __`NOTE 2:`__ _no need to implement a stopping criteria, visual inspection should suffice_."
   ]
  },
  {
   "cell_type": "markdown",
   "metadata": {
    "application/vnd.databricks.v1+cell": {
     "inputWidgets": {},
     "nuid": "623cad88-8151-446e-9e72-ca4fae7964b8",
     "showTitle": false,
     "title": ""
    }
   },
   "source": [
    "### Q3 Student Answers:\n",
    "> __a)__ PageRank measures how important a webpage is based on how many times this page is linked to other webpages. In the the context of the infinite random walk, PageRank metric for a node/webpage represents how much time the random walker spends on that given node/webpage. Each node will have a PageRank metric assigned to it, and they represent the probability distribution over all the nodes/webpages for how likely the surfer is to be at that particular node at a given time during the random walk. Higher scores mean more people are likely to frequent this webpage, so it must be an important page relative to others in the graph.\n",
    "\n",
    "> __b)__ A Markov chain is a mathematical system that undergoes transitions from one state to another, between a finite or countable number of possible states.\n",
    "\tThe \"Markov Property\" is characterized by memoryless: The next state depends only on the current state and not on the sequence of events that preceded it. In the context of PageRank, it means that the probability of going to the next page is only dependent on the current page (which pages are linked from here) and not the entire path or web browsing history before it. \n",
    "\n",
    "> __c)__ The `n` states are the webpages in our web graph. This implies that the transition matrix, of size $n^2$, will be very large since `n` is the number of webpages out on the web. The number of pages on the web is estimated to be in the trillions. \n",
    "\n",
    "> __d)__ A right stochastic matrix is a square matrix of nonnegative real numbers, with each row summing to 1 (async). A right stochastic matrix represents a graph where the weight of out-edges from a node all sum to 1. Therefore, each row in this matrix should sum to 1.\n",
    "\n",
    "> __e)__ The stable state distribution (PageRank) of the graph converges by iteration 7. Node E is the most central node because it has the highest steady state probability, and we expect this from visual inspection."
   ]
  },
  {
   "cell_type": "code",
   "execution_count": 0,
   "metadata": {
    "application/vnd.databricks.v1+cell": {
     "inputWidgets": {},
     "nuid": "80fde4aa-f1b3-4a1b-a1d9-fcc54a1191d6",
     "showTitle": false,
     "title": ""
    }
   },
   "outputs": [
    {
     "data": {
      "text/html": [
       "<style scoped>\n",
       "  .ansiout {\n",
       "    display: block;\n",
       "    unicode-bidi: embed;\n",
       "    white-space: pre-wrap;\n",
       "    word-wrap: break-word;\n",
       "    word-break: break-all;\n",
       "    font-family: \"Source Code Pro\", \"Menlo\", monospace;;\n",
       "    font-size: 13px;\n",
       "    color: #555;\n",
       "    margin-left: 4px;\n",
       "    line-height: 19px;\n",
       "  }\n",
       "</style>\n",
       "<div class=\"ansiout\">Out[12]: </div>"
      ]
     },
     "metadata": {
      "application/vnd.databricks.v1+output": {
       "addedWidgets": {},
       "arguments": {},
       "data": "<div class=\"ansiout\">Out[12]: </div>",
       "datasetInfos": [],
       "metadata": {},
       "removedWidgets": [],
       "type": "html"
      }
     },
     "output_type": "display_data"
    },
    {
     "data": {
      "text/html": [
       "<div>\n",
       "<style scoped>\n",
       "    .dataframe tbody tr th:only-of-type {\n",
       "        vertical-align: middle;\n",
       "    }\n",
       "\n",
       "    .dataframe tbody tr th {\n",
       "        vertical-align: top;\n",
       "    }\n",
       "\n",
       "    .dataframe thead th {\n",
       "        text-align: right;\n",
       "    }\n",
       "</style>\n",
       "<table border=\"1\" class=\"dataframe\">\n",
       "  <thead>\n",
       "    <tr style=\"text-align: right;\">\n",
       "      <th></th>\n",
       "      <th>A</th>\n",
       "      <th>B</th>\n",
       "      <th>C</th>\n",
       "      <th>D</th>\n",
       "      <th>E</th>\n",
       "    </tr>\n",
       "  </thead>\n",
       "  <tbody>\n",
       "    <tr>\n",
       "      <th>A</th>\n",
       "      <td>0</td>\n",
       "      <td>1</td>\n",
       "      <td>0</td>\n",
       "      <td>1</td>\n",
       "      <td>0</td>\n",
       "    </tr>\n",
       "    <tr>\n",
       "      <th>B</th>\n",
       "      <td>0</td>\n",
       "      <td>0</td>\n",
       "      <td>1</td>\n",
       "      <td>0</td>\n",
       "      <td>1</td>\n",
       "    </tr>\n",
       "    <tr>\n",
       "      <th>C</th>\n",
       "      <td>0</td>\n",
       "      <td>0</td>\n",
       "      <td>0</td>\n",
       "      <td>1</td>\n",
       "      <td>0</td>\n",
       "    </tr>\n",
       "    <tr>\n",
       "      <th>D</th>\n",
       "      <td>0</td>\n",
       "      <td>0</td>\n",
       "      <td>0</td>\n",
       "      <td>0</td>\n",
       "      <td>1</td>\n",
       "    </tr>\n",
       "    <tr>\n",
       "      <th>E</th>\n",
       "      <td>1</td>\n",
       "      <td>1</td>\n",
       "      <td>1</td>\n",
       "      <td>0</td>\n",
       "      <td>0</td>\n",
       "    </tr>\n",
       "  </tbody>\n",
       "</table>\n",
       "</div>"
      ]
     },
     "metadata": {
      "application/vnd.databricks.v1+output": {
       "addedWidgets": {},
       "arguments": {},
       "data": "<div>\n<style scoped>\n    .dataframe tbody tr th:only-of-type {\n        vertical-align: middle;\n    }\n\n    .dataframe tbody tr th {\n        vertical-align: top;\n    }\n\n    .dataframe thead th {\n        text-align: right;\n    }\n</style>\n<table border=\"1\" class=\"dataframe\">\n  <thead>\n    <tr style=\"text-align: right;\">\n      <th></th>\n      <th>A</th>\n      <th>B</th>\n      <th>C</th>\n      <th>D</th>\n      <th>E</th>\n    </tr>\n  </thead>\n  <tbody>\n    <tr>\n      <th>A</th>\n      <td>0</td>\n      <td>1</td>\n      <td>0</td>\n      <td>1</td>\n      <td>0</td>\n    </tr>\n    <tr>\n      <th>B</th>\n      <td>0</td>\n      <td>0</td>\n      <td>1</td>\n      <td>0</td>\n      <td>1</td>\n    </tr>\n    <tr>\n      <th>C</th>\n      <td>0</td>\n      <td>0</td>\n      <td>0</td>\n      <td>1</td>\n      <td>0</td>\n    </tr>\n    <tr>\n      <th>D</th>\n      <td>0</td>\n      <td>0</td>\n      <td>0</td>\n      <td>0</td>\n      <td>1</td>\n    </tr>\n    <tr>\n      <th>E</th>\n      <td>1</td>\n      <td>1</td>\n      <td>1</td>\n      <td>0</td>\n      <td>0</td>\n    </tr>\n  </tbody>\n</table>\n</div>",
       "datasetInfos": [],
       "metadata": {},
       "removedWidgets": [],
       "textData": null,
       "type": "htmlSandbox"
      }
     },
     "output_type": "display_data"
    }
   ],
   "source": [
    "# part d - recall what the adjacency matrix looked like (RUN THIS CELL AS IS)\n",
    "TOY_ADJ_MATR"
   ]
  },
  {
   "cell_type": "code",
   "execution_count": 0,
   "metadata": {
    "application/vnd.databricks.v1+cell": {
     "inputWidgets": {},
     "nuid": "f6d8ab39-e515-4d2e-98ae-9fea71832725",
     "showTitle": false,
     "title": ""
    }
   },
   "outputs": [
    {
     "data": {
      "text/html": [
       "<style scoped>\n",
       "  .ansiout {\n",
       "    display: block;\n",
       "    unicode-bidi: embed;\n",
       "    white-space: pre-wrap;\n",
       "    word-wrap: break-word;\n",
       "    word-break: break-all;\n",
       "    font-family: \"Source Code Pro\", \"Menlo\", monospace;;\n",
       "    font-size: 13px;\n",
       "    color: #555;\n",
       "    margin-left: 4px;\n",
       "    line-height: 19px;\n",
       "  }\n",
       "</style>\n",
       "<div class=\"ansiout\">          A         B         C    D    E\n",
       "A  0.000000  0.500000  0.000000  0.5  0.0\n",
       "B  0.000000  0.000000  0.500000  0.0  0.5\n",
       "C  0.000000  0.000000  0.000000  1.0  0.0\n",
       "D  0.000000  0.000000  0.000000  0.0  1.0\n",
       "E  0.333333  0.333333  0.333333  0.0  0.0\n",
       "</div>"
      ]
     },
     "metadata": {
      "application/vnd.databricks.v1+output": {
       "addedWidgets": {},
       "arguments": {},
       "data": "<div class=\"ansiout\">          A         B         C    D    E\nA  0.000000  0.500000  0.000000  0.5  0.0\nB  0.000000  0.000000  0.500000  0.0  0.5\nC  0.000000  0.000000  0.000000  1.0  0.0\nD  0.000000  0.000000  0.000000  0.0  1.0\nE  0.333333  0.333333  0.333333  0.0  0.0\n</div>",
       "datasetInfos": [],
       "metadata": {},
       "removedWidgets": [],
       "type": "html"
      }
     },
     "output_type": "display_data"
    }
   ],
   "source": [
    "# part d - use TOY_ADJ_MATR to create a right stochastic transition matrix for this graph\n",
    "################ YOUR CODE HERE #################\n",
    "transition_matrix = TOY_ADJ_MATR/np.array(TOY_ADJ_MATR).sum(axis=1, keepdims=True) # replace with your code\n",
    "\n",
    "################ (END) YOUR CODE #################\n",
    "print(transition_matrix)"
   ]
  },
  {
   "cell_type": "code",
   "execution_count": 0,
   "metadata": {
    "application/vnd.databricks.v1+cell": {
     "inputWidgets": {},
     "nuid": "a73ea3d8-9aaf-4f15-9ca6-25d0a3922842",
     "showTitle": false,
     "title": ""
    }
   },
   "outputs": [
    {
     "data": {
      "text/html": [
       "<style scoped>\n",
       "  .ansiout {\n",
       "    display: block;\n",
       "    unicode-bidi: embed;\n",
       "    white-space: pre-wrap;\n",
       "    word-wrap: break-word;\n",
       "    word-break: break-all;\n",
       "    font-family: \"Source Code Pro\", \"Menlo\", monospace;;\n",
       "    font-size: 13px;\n",
       "    color: #555;\n",
       "    margin-left: 4px;\n",
       "    line-height: 19px;\n",
       "  }\n",
       "</style>\n",
       "<div class=\"ansiout\"></div>"
      ]
     },
     "metadata": {
      "application/vnd.databricks.v1+output": {
       "addedWidgets": {},
       "arguments": {},
       "data": "<div class=\"ansiout\"></div>",
       "datasetInfos": [],
       "metadata": {},
       "removedWidgets": [],
       "type": "html"
      }
     },
     "output_type": "display_data"
    }
   ],
   "source": [
    "# part e - compute the steady state using the transition matrix \n",
    "def power_iteration(xInit, tMatrix, nIter, verbose = True):\n",
    "    \"\"\"\n",
    "    Function to perform the specified number of power iteration steps to \n",
    "    compute the steady state probability distribution for the given\n",
    "    transition matrix.\n",
    "    \n",
    "    Args:\n",
    "        xInit     - (n x 1 array) representing initial state\n",
    "        tMatrix  - (n x n array) transition probabilities\n",
    "        nIter     - (int) number of iterations\n",
    "    Returns:\n",
    "        state_vector - (n x 1 array) representing probability \n",
    "                        distribution over states after nSteps.\n",
    "    \n",
    "    NOTE: if the 'verbose' flag is on, your function should print the step\n",
    "    number and the current matrix at each iteration.\n",
    "    \"\"\"\n",
    "    state_vector = None\n",
    "    ################ YOUR CODE HERE #################\n",
    "    # calculate state vector\n",
    "    # print(xInit.shape)\n",
    "    state_vector = xInit.dot(tMatrix) # step 1: x_1^T = x_0^T * P\n",
    "    # print(state_vector.shape)\n",
    "    for i in range(nIter):\n",
    "      if verbose:\n",
    "        print(f\"Step {i}\\tstate vector: {state_vector}\")\n",
    "      tMatrix = tMatrix.dot(tMatrix) # multiply matrix with itself to make new one: P*P\n",
    "      state_vector = xInit.dot(tMatrix) # get the state vector at this iteration: x_1^T = x_0^T * P*P\n",
    "    \n",
    "    \n",
    "    \n",
    "    ################ (END) YOUR CODE #################\n",
    "    return state_vector"
   ]
  },
  {
   "cell_type": "code",
   "execution_count": 0,
   "metadata": {
    "application/vnd.databricks.v1+cell": {
     "inputWidgets": {},
     "nuid": "19796b9c-fa73-4236-a18c-4d29f2d94ede",
     "showTitle": false,
     "title": ""
    }
   },
   "outputs": [
    {
     "data": {
      "text/html": [
       "<style scoped>\n",
       "  .ansiout {\n",
       "    display: block;\n",
       "    unicode-bidi: embed;\n",
       "    white-space: pre-wrap;\n",
       "    word-wrap: break-word;\n",
       "    word-break: break-all;\n",
       "    font-family: \"Source Code Pro\", \"Menlo\", monospace;;\n",
       "    font-size: 13px;\n",
       "    color: #555;\n",
       "    margin-left: 4px;\n",
       "    line-height: 19px;\n",
       "  }\n",
       "</style>\n",
       "<div class=\"ansiout\">(3, 3)\n",
       "[[5 1 3]\n",
       " [1 1 1]\n",
       " [1 2 1]]\n",
       "(3,)\n",
       "[1 2 3]\n",
       "[10  9  8]\n",
       "</div>"
      ]
     },
     "metadata": {
      "application/vnd.databricks.v1+output": {
       "addedWidgets": {},
       "arguments": {},
       "data": "<div class=\"ansiout\">(3, 3)\n[[5 1 3]\n [1 1 1]\n [1 2 1]]\n(3,)\n[1 2 3]\n[10  9  8]\n</div>",
       "datasetInfos": [],
       "metadata": {},
       "removedWidgets": [],
       "type": "html"
      }
     },
     "output_type": "display_data"
    }
   ],
   "source": [
    "a = np.array([[ 5, 1 ,3], \n",
    "                  [ 1, 1 ,1], \n",
    "                  [ 1, 2 ,1]])\n",
    "b = np.array([1, 2, 3])\n",
    "print(a.shape)\n",
    "print(a)\n",
    "print(b.shape)\n",
    "print(b)\n",
    "# print(a.dot(b))\n",
    "print(b.dot(a))"
   ]
  },
  {
   "cell_type": "code",
   "execution_count": 0,
   "metadata": {
    "application/vnd.databricks.v1+cell": {
     "inputWidgets": {},
     "nuid": "777c40dd-04dd-4aa7-8f93-e2f9c2a4250b",
     "showTitle": false,
     "title": ""
    }
   },
   "outputs": [
    {
     "data": {
      "text/html": [
       "<style scoped>\n",
       "  .ansiout {\n",
       "    display: block;\n",
       "    unicode-bidi: embed;\n",
       "    white-space: pre-wrap;\n",
       "    word-wrap: break-word;\n",
       "    word-break: break-all;\n",
       "    font-family: \"Source Code Pro\", \"Menlo\", monospace;;\n",
       "    font-size: 13px;\n",
       "    color: #555;\n",
       "    margin-left: 4px;\n",
       "    line-height: 19px;\n",
       "  }\n",
       "</style>\n",
       "<div class=\"ansiout\">Step 0\tstate vector: [0.  0.5 0.  0.5 0. ]\n",
       "Step 1\tstate vector: [0.   0.   0.25 0.   0.75]\n",
       "Step 2\tstate vector: [0.    0.125 0.125 0.375 0.375]\n",
       "Step 3\tstate vector: [0.11805556 0.14930556 0.18576389 0.19791667 0.34895833]\n",
       "Step 4\tstate vector: [0.10386392 0.15674096 0.18360648 0.23753577 0.31825288]\n",
       "Step 5\tstate vector: [0.10526656 0.15789725 0.18421194 0.23683994 0.3157843 ]\n",
       "Step 6\tstate vector: [0.10526316 0.15789474 0.18421053 0.23684211 0.31578947]\n",
       "Step 7\tstate vector: [0.10526316 0.15789474 0.18421053 0.23684211 0.31578947]\n",
       "Step 8\tstate vector: [0.10526316 0.15789474 0.18421053 0.23684211 0.31578947]\n",
       "Step 9\tstate vector: [0.10526316 0.15789474 0.18421053 0.23684211 0.31578947]\n",
       "</div>"
      ]
     },
     "metadata": {
      "application/vnd.databricks.v1+output": {
       "addedWidgets": {},
       "arguments": {},
       "data": "<div class=\"ansiout\">Step 0\tstate vector: [0.  0.5 0.  0.5 0. ]\nStep 1\tstate vector: [0.   0.   0.25 0.   0.75]\nStep 2\tstate vector: [0.    0.125 0.125 0.375 0.375]\nStep 3\tstate vector: [0.11805556 0.14930556 0.18576389 0.19791667 0.34895833]\nStep 4\tstate vector: [0.10386392 0.15674096 0.18360648 0.23753577 0.31825288]\nStep 5\tstate vector: [0.10526656 0.15789725 0.18421194 0.23683994 0.3157843 ]\nStep 6\tstate vector: [0.10526316 0.15789474 0.18421053 0.23684211 0.31578947]\nStep 7\tstate vector: [0.10526316 0.15789474 0.18421053 0.23684211 0.31578947]\nStep 8\tstate vector: [0.10526316 0.15789474 0.18421053 0.23684211 0.31578947]\nStep 9\tstate vector: [0.10526316 0.15789474 0.18421053 0.23684211 0.31578947]\n</div>",
       "datasetInfos": [],
       "metadata": {},
       "removedWidgets": [],
       "type": "html"
      }
     },
     "output_type": "display_data"
    }
   ],
   "source": [
    "# part e - run 10 steps of the power_iteration (RUN THIS CELL AS IS)\n",
    "xInit = np.array([1.0, 0, 0, 0, 0]) # note that this initial state will not affect the convergence states\n",
    "states = power_iteration(xInit, transition_matrix, 10, verbose = True)"
   ]
  },
  {
   "cell_type": "markdown",
   "metadata": {
    "application/vnd.databricks.v1+cell": {
     "inputWidgets": {},
     "nuid": "c54df499-3d1a-44c0-82c9-f191110ccca1",
     "showTitle": false,
     "title": ""
    }
   },
   "source": [
    "__`Expected Output for part e:`__  \n",
    ">Steady State Probabilities:\n",
    "```\n",
    "Node A: 0.10526316  \n",
    "Node B: 0.15789474  \n",
    "Node C: 0.18421053  \n",
    "Node D: 0.23684211  \n",
    "Node E: 0.31578947  \n",
    "```"
   ]
  },
  {
   "cell_type": "markdown",
   "metadata": {
    "application/vnd.databricks.v1+cell": {
     "inputWidgets": {},
     "nuid": "fd830dc8-5ae2-440e-a539-1b91ca91b349",
     "showTitle": false,
     "title": ""
    }
   },
   "source": [
    "# Question 4: Page Rank Theory\n",
    "\n",
    "Seems easy right? Unfortunately applying this power iteration method directly to the web-graph actually runs into a few problems. In this question we'll tease apart what we meant by a 'nice graph' in Question 3 and highlight key modifications we'll have to make to the web-graph when performing PageRank. To start, we'll look at what goes wrong when we try to repeat our strategy from question 3 on a 'not nice' graph.\n",
    "\n",
    "__`Additional References:`__ http://pi.math.cornell.edu/~mec/Winter2009/RalucaRemus/Lecture3/lecture3.html\n",
    "\n",
    "### Q4 Tasks:\n",
    "\n",
    "* __a) code + short response:__ Run the provided code to create and plot our 'not nice' graph. Fill in the missing code to compute its transition matrix & run the power iteration method from question 3. What is wrong with what you see? [__`HINT:`__ _there is a visible underlying reason that it isn't converging... try adding up the probabilities in the state vector after each iteration._]\n",
    "\n",
    "* __b) short response:__  Identify the dangling node in this 'not nice' graph and explain how this node causes the problem you described in 'a'. How could we modify the transition matrix after each iteration to prevent this problem?\n",
    "\n",
    "* __c) short response:__ What does it mean for a graph to be irreducible? Is the webgraph naturally irreducible? Explain your reasoning briefly.\n",
    "\n",
    "* __d) short response:__ What does it mean for a graph to be aperiodic? Is the webgraph naturally aperiodic? Explain your reasoning briefly.\n",
    "\n",
    "* __e) short response:__ What modification to the webgraph does PageRank make in order to guarantee aperiodicity and irreducibility? Interpret this modification in terms of our random surfer analogy."
   ]
  },
  {
   "cell_type": "markdown",
   "metadata": {
    "application/vnd.databricks.v1+cell": {
     "inputWidgets": {},
     "nuid": "ca551e99-dca0-4218-95c8-0cfb05052d14",
     "showTitle": false,
     "title": ""
    }
   },
   "source": [
    "### Q4 Student Answers:\n",
    "> __a)__ The probabilities are not converging, and with each iteration they become smaller and smaller. The row of probabilities should sum to 1 but these do not. \n",
    "\n",
    "> __b)__ The dangling node is E because it is a sink for edges but has no outgoing edges. For a Markov Chain and PageRank to work, we need stochasticity and this fails because the dangling node does not redistribute the incoming mass.\n",
    "\n",
    "> __c)__ A graph is irreducible if there is a path from every node to every other node. The webgraph is not naturally irreducible because some webpages cannot reach other webpages without typing into the URL since a hyperlink chain might not exist. \n",
    " \n",
    "\n",
    "> __d)__ A graph is aperiodic if the period, or greatest common divisor (GCD), of all cycle lengths is 1. Aperiodicity: When starting from some state i, we don't know when we will return to the same state i after some transition. We may see the state i after 1,2,3,4,5.. etc number of transition ([source](https://stats.stackexchange.com/a/385070)). A webgraph is naturally aperiodic because we just need 1 page to have a hyperlink back to itself for the minimum period to be 1. This is commonly found on the huge internet. \n",
    "\n",
    "> __e)__ PageRank modifies the webgraph to include a teleportation chance so that each node, and particularly dangling nodes, are escapable by the random surfer who ends up on that page. This connects all nodes in the graph and provides irreducibility. Having a webpage link to itself in the webgraph can guarantee aperiodicity. Lastly, redistributing the probability mass of dangling node webpages to the rest of the nodes/webpages in the graph allow us to handle dangling nodes. These changes amount to the Stochasticity adjustment and Primitivity adjustment, which allow us to guarantee aperiodicity and irreducibility."
   ]
  },
  {
   "cell_type": "code",
   "execution_count": 0,
   "metadata": {
    "application/vnd.databricks.v1+cell": {
     "inputWidgets": {},
     "nuid": "081abf9a-afad-41d8-907d-3d9517ea64bb",
     "showTitle": false,
     "title": ""
    }
   },
   "outputs": [
    {
     "data": {
      "text/html": [
       "<style scoped>\n",
       "  .ansiout {\n",
       "    display: block;\n",
       "    unicode-bidi: embed;\n",
       "    white-space: pre-wrap;\n",
       "    word-wrap: break-word;\n",
       "    word-break: break-all;\n",
       "    font-family: \"Source Code Pro\", \"Menlo\", monospace;;\n",
       "    font-size: 13px;\n",
       "    color: #555;\n",
       "    margin-left: 4px;\n",
       "    line-height: 19px;\n",
       "  }\n",
       "</style>\n",
       "<div class=\"ansiout\"></div>"
      ]
     },
     "metadata": {
      "application/vnd.databricks.v1+output": {
       "addedWidgets": {},
       "arguments": {},
       "data": "<div class=\"ansiout\"></div>",
       "datasetInfos": [],
       "metadata": {},
       "removedWidgets": [],
       "type": "html"
      }
     },
     "output_type": "display_data"
    }
   ],
   "source": [
    "# part a - run this code to create a second toy graph (RUN THIS CELL AS IS)\n",
    "TOY2_GRAPH = {'nodes':['A', 'B', 'C', 'D', 'E'],\n",
    "              'edges':[('A', 'B'), ('A', 'C'), ('A', 'D'), ('B', 'D'), \n",
    "                       ('B', 'E'), ('C', 'A'), ('C', 'E'), ('D', 'B')]}"
   ]
  },
  {
   "cell_type": "code",
   "execution_count": 0,
   "metadata": {
    "application/vnd.databricks.v1+cell": {
     "inputWidgets": {},
     "nuid": "e269296e-bc39-49d6-9b9b-61207fe00ec9",
     "showTitle": false,
     "title": ""
    }
   },
   "outputs": [
    {
     "data": {
      "image/png": "[encoded data removed]"
     },
     "metadata": {
      "application/vnd.databricks.v1+output": {
       "addedWidgets": {},
       "arguments": {},
       "data": "data:image/png;base64,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",
       "datasetInfos": [],
       "metadata": {
        "imageDimensions": {
         "height": 302,
         "width": 446
        }
       },
       "removedWidgets": [],
       "type": "image"
      },
      "image/png": {
       "height": 302,
       "width": 446
      }
     },
     "output_type": "display_data"
    }
   ],
   "source": [
    "# part a - simple visualization of our test graph using nx (RUN THIS CELL AS IS)\n",
    "G = nx.DiGraph()\n",
    "G.add_nodes_from(TOY2_GRAPH['nodes'])\n",
    "G.add_edges_from(TOY2_GRAPH['edges'])\n",
    "display(nx.draw(G, pos=nx.circular_layout(G), with_labels=True, alpha = 0.5))"
   ]
  },
  {
   "cell_type": "code",
   "execution_count": 0,
   "metadata": {
    "application/vnd.databricks.v1+cell": {
     "inputWidgets": {},
     "nuid": "7c765136-bfff-4150-babb-2c7a4d5e6956",
     "showTitle": false,
     "title": ""
    }
   },
   "outputs": [
    {
     "data": {
      "text/html": [
       "<style scoped>\n",
       "  .ansiout {\n",
       "    display: block;\n",
       "    unicode-bidi: embed;\n",
       "    white-space: pre-wrap;\n",
       "    word-wrap: break-word;\n",
       "    word-break: break-all;\n",
       "    font-family: \"Source Code Pro\", \"Menlo\", monospace;;\n",
       "    font-size: 13px;\n",
       "    color: #555;\n",
       "    margin-left: 4px;\n",
       "    line-height: 19px;\n",
       "  }\n",
       "</style>\n",
       "<div class=\"ansiout\">Adjacency Matrix:\n",
       "[[0 1 1 1 0]\n",
       " [0 0 0 1 1]\n",
       " [1 0 0 0 1]\n",
       " [0 1 0 0 0]\n",
       " [0 0 0 0 0]]\n",
       "\n",
       "\n",
       "Transition Matrix:\n",
       "[[0.         0.33333333 0.33333333 0.33333333 0.        ]\n",
       " [0.         0.         0.         0.5        0.5       ]\n",
       " [0.5        0.         0.         0.         0.5       ]\n",
       " [0.         1.         0.         0.         0.        ]\n",
       " [0.         0.         0.         0.         0.        ]]\n",
       "\n",
       "\n",
       "Power Iterations\n",
       "Step 0\tstate vector: [0.         0.33333333 0.33333333 0.33333333 0.        ]\n",
       "Step 1\tstate vector: [0.16666667 0.33333333 0.         0.16666667 0.33333333]\n",
       "Step 2\tstate vector: [0.02777778 0.22222222 0.         0.11111111 0.13888889]\n",
       "Step 3\tstate vector: [0.0007716 0.0617284 0.        0.0308642 0.0316358]\n",
       "Step 4\tstate vector: [5.95374181e-07 3.90565463e-03 0.00000000e+00 1.95282731e-03\n",
       " 1.95342269e-03]\n",
       "Step 5\tstate vector: [3.54470415e-13 1.52587887e-05 0.00000000e+00 7.62939435e-06\n",
       " 7.62939471e-06]\n",
       "Step 6\tstate vector: [1.25649275e-25 2.32830644e-10 0.00000000e+00 1.16415322e-10\n",
       " 1.16415322e-10]\n",
       "Step 7\tstate vector: [1.57877404e-50 5.42101086e-20 0.00000000e+00 2.71050543e-20\n",
       " 2.71050543e-20]\n",
       "Step 8\tstate vector: [2.49252746e-100 2.93873588e-039 0.00000000e+000 1.46936794e-039\n",
       " 1.46936794e-039]\n",
       "Step 9\tstate vector: [6.21269312e-200 8.63616856e-078 0.00000000e+000 4.31808428e-078\n",
       " 4.31808428e-078]\n",
       "</div>"
      ]
     },
     "metadata": {
      "application/vnd.databricks.v1+output": {
       "addedWidgets": {},
       "arguments": {},
       "data": "<div class=\"ansiout\">Adjacency Matrix:\n[[0 1 1 1 0]\n [0 0 0 1 1]\n [1 0 0 0 1]\n [0 1 0 0 0]\n [0 0 0 0 0]]\n\n\nTransition Matrix:\n[[0.         0.33333333 0.33333333 0.33333333 0.        ]\n [0.         0.         0.         0.5        0.5       ]\n [0.5        0.         0.         0.         0.5       ]\n [0.         1.         0.         0.         0.        ]\n [0.         0.         0.         0.         0.        ]]\n\n\nPower Iterations\nStep 0\tstate vector: [0.         0.33333333 0.33333333 0.33333333 0.        ]\nStep 1\tstate vector: [0.16666667 0.33333333 0.         0.16666667 0.33333333]\nStep 2\tstate vector: [0.02777778 0.22222222 0.         0.11111111 0.13888889]\nStep 3\tstate vector: [0.0007716 0.0617284 0.        0.0308642 0.0316358]\nStep 4\tstate vector: [5.95374181e-07 3.90565463e-03 0.00000000e+00 1.95282731e-03\n 1.95342269e-03]\nStep 5\tstate vector: [3.54470415e-13 1.52587887e-05 0.00000000e+00 7.62939435e-06\n 7.62939471e-06]\nStep 6\tstate vector: [1.25649275e-25 2.32830644e-10 0.00000000e+00 1.16415322e-10\n 1.16415322e-10]\nStep 7\tstate vector: [1.57877404e-50 5.42101086e-20 0.00000000e+00 2.71050543e-20\n 2.71050543e-20]\nStep 8\tstate vector: [2.49252746e-100 2.93873588e-039 0.00000000e+000 1.46936794e-039\n 1.46936794e-039]\nStep 9\tstate vector: [6.21269312e-200 8.63616856e-078 0.00000000e+000 4.31808428e-078\n 4.31808428e-078]\n</div>",
       "datasetInfos": [],
       "metadata": {},
       "removedWidgets": [],
       "type": "html"
      }
     },
     "output_type": "display_data"
    }
   ],
   "source": [
    "# part a - run 10 steps of the power iteration method here\n",
    "# HINT: feel free to use the functions get_adj_matr() and power_iteration() you wrote above\n",
    "################ YOUR CODE HERE #################\n",
    "\n",
    "# get the adjacency matrix\n",
    "print(\"Adjacency Matrix:\")\n",
    "TOY_ADJ_MATR2 = np.array(get_adj_matr(TOY2_GRAPH))\n",
    "print(TOY_ADJ_MATR2)\n",
    "print(\"\\n\")\n",
    "\n",
    "\n",
    "# calculate transition matrix, 0's if whole row sums to 0.\n",
    "print(\"Transition Matrix:\")\n",
    "transition_matrix2 = np.zeros(TOY_ADJ_MATR2.shape) # initialize 0's for transition matrix\n",
    "for i, row in enumerate(TOY_ADJ_MATR2):\n",
    "  # update row if the sum of entries in row is greater than 0. Avoid division by 0\n",
    "  if np.sum(row) > 0:\n",
    "    transition_matrix2[i] = np.array(row) / np.sum(row)\n",
    "print(transition_matrix2)\n",
    "print(\"\\n\")\n",
    "\n",
    "print(\"Power Iterations\")\n",
    "xInit = np.array([1.0, 0, 0, 0, 0]) # note that this initial state will not affect the convergence states\n",
    "states = power_iteration(xInit, transition_matrix2, 10, verbose = True)\n",
    "################ (END) YOUR CODE #################"
   ]
  },
  {
   "cell_type": "markdown",
   "metadata": {
    "application/vnd.databricks.v1+cell": {
     "inputWidgets": {},
     "nuid": "dfd6f1ec-649b-47d5-996e-07b08267c2ef",
     "showTitle": false,
     "title": ""
    }
   },
   "source": [
    "# About the Data\n",
    "The main dataset for this data consists of a subset of a 500GB dataset released by AWS in 2009. The data includes the source and metadata for all of the Wikimedia wikis. You can read more here: \n",
    "> https://aws.amazon.com/blogs/aws/new-public-data-set-wikipedia-xml-data. \n",
    "\n",
    "As in previous homeworks we'll be using a 2GB subset of this data, which is available to you in this dropbox folder: \n",
    "> https://www.dropbox.com/sh/2c0k5adwz36lkcw/AAAAKsjQfF9uHfv-X9mCqr9wa?dl=0. \n",
    "\n",
    "Use the cells below to download the wikipedia data and a test file for use in developing your PageRank implementation(note that we'll use the 'indexed out' version of the graph) and to take a look at the files."
   ]
  },
  {
   "cell_type": "code",
   "execution_count": 0,
   "metadata": {
    "application/vnd.databricks.v1+cell": {
     "inputWidgets": {},
     "nuid": "e9ff1dec-7ece-4215-a211-ff6b26836472",
     "showTitle": false,
     "title": ""
    }
   },
   "outputs": [
    {
     "data": {
      "text/html": [
       "<style scoped>\n",
       "  .ansiout {\n",
       "    display: block;\n",
       "    unicode-bidi: embed;\n",
       "    white-space: pre-wrap;\n",
       "    word-wrap: break-word;\n",
       "    word-break: break-all;\n",
       "    font-family: \"Source Code Pro\", \"Menlo\", monospace;;\n",
       "    font-size: 13px;\n",
       "    color: #555;\n",
       "    margin-left: 4px;\n",
       "    line-height: 19px;\n",
       "  }\n",
       "</style>\n",
       "<div class=\"ansiout\">Out[20]: [FileInfo(path=&#39;dbfs:/mnt/mids-w261/HW5/all-pages-indexed-in.txt&#39;, name=&#39;all-pages-indexed-in.txt&#39;, size=2143300687),\n",
       " FileInfo(path=&#39;dbfs:/mnt/mids-w261/HW5/all-pages-indexed-out.txt&#39;, name=&#39;all-pages-indexed-out.txt&#39;, size=2090459616),\n",
       " FileInfo(path=&#39;dbfs:/mnt/mids-w261/HW5/indices.txt&#39;, name=&#39;indices.txt&#39;, size=517438296),\n",
       " FileInfo(path=&#39;dbfs:/mnt/mids-w261/HW5/test_graph.txt&#39;, name=&#39;test_graph.txt&#39;, size=167)]</div>"
      ]
     },
     "metadata": {
      "application/vnd.databricks.v1+output": {
       "addedWidgets": {},
       "arguments": {},
       "data": "<div class=\"ansiout\">Out[20]: [FileInfo(path=&#39;dbfs:/mnt/mids-w261/HW5/all-pages-indexed-in.txt&#39;, name=&#39;all-pages-indexed-in.txt&#39;, size=2143300687),\n FileInfo(path=&#39;dbfs:/mnt/mids-w261/HW5/all-pages-indexed-out.txt&#39;, name=&#39;all-pages-indexed-out.txt&#39;, size=2090459616),\n FileInfo(path=&#39;dbfs:/mnt/mids-w261/HW5/indices.txt&#39;, name=&#39;indices.txt&#39;, size=517438296),\n FileInfo(path=&#39;dbfs:/mnt/mids-w261/HW5/test_graph.txt&#39;, name=&#39;test_graph.txt&#39;, size=167)]</div>",
       "datasetInfos": [],
       "metadata": {},
       "removedWidgets": [],
       "type": "html"
      }
     },
     "output_type": "display_data"
    }
   ],
   "source": [
    "dbutils.fs.ls(DATA_PATH)"
   ]
  },
  {
   "cell_type": "code",
   "execution_count": 0,
   "metadata": {
    "application/vnd.databricks.v1+cell": {
     "inputWidgets": {},
     "nuid": "16a0762c-dece-40c8-bb1b-8f00c4517b2b",
     "showTitle": false,
     "title": ""
    }
   },
   "outputs": [
    {
     "data": {
      "text/html": [
       "<style scoped>\n",
       "  .ansiout {\n",
       "    display: block;\n",
       "    unicode-bidi: embed;\n",
       "    white-space: pre-wrap;\n",
       "    word-wrap: break-word;\n",
       "    word-break: break-all;\n",
       "    font-family: \"Source Code Pro\", \"Menlo\", monospace;;\n",
       "    font-size: 13px;\n",
       "    color: #555;\n",
       "    margin-left: 4px;\n",
       "    line-height: 19px;\n",
       "  }\n",
       "</style>\n",
       "<div class=\"ansiout\">2\t{&#39;3&#39;: 1}\n",
       "\n",
       "3\t{&#39;2&#39;: 2}\n",
       "\n",
       "4\t{&#39;1&#39;: 1, &#39;2&#39;: 1}\n",
       "\n",
       "5\t{&#39;4&#39;: 3, &#39;2&#39;: 1, &#39;6&#39;: 1}\n",
       "\n",
       "6\t{&#39;2&#39;: 1, &#39;5&#39;: 2}\n",
       "\n",
       "7\t{&#39;2&#39;: 1, &#39;5&#39;: 1}\n",
       "\n",
       "8\t{&#39;2&#39;: 1, &#39;5&#39;: 1}\n",
       "\n",
       "9\t{&#39;2&#39;: 1, &#39;5&#39;: 1}\n",
       "\n",
       "10\t{&#39;5&#39;: 1}\n",
       "\n",
       "11\t{&#39;5&#39;: 2}\n",
       "</div>"
      ]
     },
     "metadata": {
      "application/vnd.databricks.v1+output": {
       "addedWidgets": {},
       "arguments": {},
       "data": "<div class=\"ansiout\">2\t{&#39;3&#39;: 1}\n\n3\t{&#39;2&#39;: 2}\n\n4\t{&#39;1&#39;: 1, &#39;2&#39;: 1}\n\n5\t{&#39;4&#39;: 3, &#39;2&#39;: 1, &#39;6&#39;: 1}\n\n6\t{&#39;2&#39;: 1, &#39;5&#39;: 2}\n\n7\t{&#39;2&#39;: 1, &#39;5&#39;: 1}\n\n8\t{&#39;2&#39;: 1, &#39;5&#39;: 1}\n\n9\t{&#39;2&#39;: 1, &#39;5&#39;: 1}\n\n10\t{&#39;5&#39;: 1}\n\n11\t{&#39;5&#39;: 2}\n</div>",
       "datasetInfos": [],
       "metadata": {},
       "removedWidgets": [],
       "type": "html"
      }
     },
     "output_type": "display_data"
    }
   ],
   "source": [
    "# open test_graph.txt file to see format (RUN THIS CELL AS IS)\n",
    "with open('/dbfs/mnt/mids-w261/HW5/test_graph.txt', \"r\") as f_read:\n",
    "  for line in f_read:\n",
    "    print(line)"
   ]
  },
  {
   "cell_type": "code",
   "execution_count": 0,
   "metadata": {
    "application/vnd.databricks.v1+cell": {
     "inputWidgets": {},
     "nuid": "a140fcac-1d1f-42af-8cc0-1e747fd039d9",
     "showTitle": false,
     "title": ""
    }
   },
   "outputs": [
    {
     "data": {
      "text/html": [
       "<style scoped>\n",
       "  .ansiout {\n",
       "    display: block;\n",
       "    unicode-bidi: embed;\n",
       "    white-space: pre-wrap;\n",
       "    word-wrap: break-word;\n",
       "    word-break: break-all;\n",
       "    font-family: \"Source Code Pro\", \"Menlo\", monospace;;\n",
       "    font-size: 13px;\n",
       "    color: #555;\n",
       "    margin-left: 4px;\n",
       "    line-height: 19px;\n",
       "  }\n",
       "</style>\n",
       "<div class=\"ansiout\"></div>"
      ]
     },
     "metadata": {
      "application/vnd.databricks.v1+output": {
       "addedWidgets": {},
       "arguments": {},
       "data": "<div class=\"ansiout\"></div>",
       "datasetInfos": [],
       "metadata": {},
       "removedWidgets": [],
       "type": "html"
      }
     },
     "output_type": "display_data"
    }
   ],
   "source": [
    "# load the data into Spark RDDs for convenience of use later (RUN THIS CELL AS IS)\n",
    "DATA_PATH = 'dbfs:/mnt/mids-w261/HW5/'\n",
    "testRDD = sc.textFile(DATA_PATH +'test_graph.txt')\n",
    "indexRDD = sc.textFile(DATA_PATH + '/indices.txt')\n",
    "wikiRDD = sc.textFile(DATA_PATH + '/all-pages-indexed-out.txt')"
   ]
  },
  {
   "cell_type": "code",
   "execution_count": 0,
   "metadata": {
    "application/vnd.databricks.v1+cell": {
     "inputWidgets": {},
     "nuid": "efcfc196-6c2b-43b8-bab7-d6e094f190d7",
     "showTitle": false,
     "title": ""
    }
   },
   "outputs": [
    {
     "data": {
      "text/html": [
       "<style scoped>\n",
       "  .ansiout {\n",
       "    display: block;\n",
       "    unicode-bidi: embed;\n",
       "    white-space: pre-wrap;\n",
       "    word-wrap: break-word;\n",
       "    word-break: break-all;\n",
       "    font-family: \"Source Code Pro\", \"Menlo\", monospace;;\n",
       "    font-size: 13px;\n",
       "    color: #555;\n",
       "    margin-left: 4px;\n",
       "    line-height: 19px;\n",
       "  }\n",
       "</style>\n",
       "<div class=\"ansiout\">Out[23]: [&#34;2\\t{&#39;3&#39;: 1}&#34;,\n",
       " &#34;3\\t{&#39;2&#39;: 2}&#34;,\n",
       " &#34;4\\t{&#39;1&#39;: 1, &#39;2&#39;: 1}&#34;,\n",
       " &#34;5\\t{&#39;4&#39;: 3, &#39;2&#39;: 1, &#39;6&#39;: 1}&#34;,\n",
       " &#34;6\\t{&#39;2&#39;: 1, &#39;5&#39;: 2}&#34;,\n",
       " &#34;7\\t{&#39;2&#39;: 1, &#39;5&#39;: 1}&#34;,\n",
       " &#34;8\\t{&#39;2&#39;: 1, &#39;5&#39;: 1}&#34;,\n",
       " &#34;9\\t{&#39;2&#39;: 1, &#39;5&#39;: 1}&#34;,\n",
       " &#34;10\\t{&#39;5&#39;: 1}&#34;,\n",
       " &#34;11\\t{&#39;5&#39;: 2}&#34;]</div>"
      ]
     },
     "metadata": {
      "application/vnd.databricks.v1+output": {
       "addedWidgets": {},
       "arguments": {},
       "data": "<div class=\"ansiout\">Out[23]: [&#34;2\\t{&#39;3&#39;: 1}&#34;,\n &#34;3\\t{&#39;2&#39;: 2}&#34;,\n &#34;4\\t{&#39;1&#39;: 1, &#39;2&#39;: 1}&#34;,\n &#34;5\\t{&#39;4&#39;: 3, &#39;2&#39;: 1, &#39;6&#39;: 1}&#34;,\n &#34;6\\t{&#39;2&#39;: 1, &#39;5&#39;: 2}&#34;,\n &#34;7\\t{&#39;2&#39;: 1, &#39;5&#39;: 1}&#34;,\n &#34;8\\t{&#39;2&#39;: 1, &#39;5&#39;: 1}&#34;,\n &#34;9\\t{&#39;2&#39;: 1, &#39;5&#39;: 1}&#34;,\n &#34;10\\t{&#39;5&#39;: 1}&#34;,\n &#34;11\\t{&#39;5&#39;: 2}&#34;]</div>",
       "datasetInfos": [],
       "metadata": {},
       "removedWidgets": [],
       "type": "html"
      }
     },
     "output_type": "display_data"
    }
   ],
   "source": [
    "# display testRDD (RUN THIS CELL AS IS)\n",
    "testRDD.take(10)"
   ]
  },
  {
   "cell_type": "code",
   "execution_count": 0,
   "metadata": {
    "application/vnd.databricks.v1+cell": {
     "inputWidgets": {},
     "nuid": "34a0daa9-63e2-4a0e-bbaf-fd49d9cef3e0",
     "showTitle": false,
     "title": ""
    }
   },
   "outputs": [
    {
     "data": {
      "text/html": [
       "<style scoped>\n",
       "  .ansiout {\n",
       "    display: block;\n",
       "    unicode-bidi: embed;\n",
       "    white-space: pre-wrap;\n",
       "    word-wrap: break-word;\n",
       "    word-break: break-all;\n",
       "    font-family: \"Source Code Pro\", \"Menlo\", monospace;;\n",
       "    font-size: 13px;\n",
       "    color: #555;\n",
       "    margin-left: 4px;\n",
       "    line-height: 19px;\n",
       "  }\n",
       "</style>\n",
       "<div class=\"ansiout\">Out[24]: [&#34;2\\t{&#39;3&#39;: 1}&#34;,\n",
       " &#34;3\\t{&#39;2&#39;: 2}&#34;,\n",
       " &#34;4\\t{&#39;1&#39;: 1, &#39;2&#39;: 1}&#34;,\n",
       " &#34;5\\t{&#39;4&#39;: 3, &#39;2&#39;: 1, &#39;6&#39;: 1}&#34;,\n",
       " &#34;6\\t{&#39;2&#39;: 1, &#39;5&#39;: 2}&#34;,\n",
       " &#34;7\\t{&#39;2&#39;: 1, &#39;5&#39;: 1}&#34;,\n",
       " &#34;8\\t{&#39;2&#39;: 1, &#39;5&#39;: 1}&#34;,\n",
       " &#34;9\\t{&#39;2&#39;: 1, &#39;5&#39;: 1}&#34;,\n",
       " &#34;10\\t{&#39;5&#39;: 1}&#34;,\n",
       " &#34;11\\t{&#39;5&#39;: 2}&#34;]</div>"
      ]
     },
     "metadata": {
      "application/vnd.databricks.v1+output": {
       "addedWidgets": {},
       "arguments": {},
       "data": "<div class=\"ansiout\">Out[24]: [&#34;2\\t{&#39;3&#39;: 1}&#34;,\n &#34;3\\t{&#39;2&#39;: 2}&#34;,\n &#34;4\\t{&#39;1&#39;: 1, &#39;2&#39;: 1}&#34;,\n &#34;5\\t{&#39;4&#39;: 3, &#39;2&#39;: 1, &#39;6&#39;: 1}&#34;,\n &#34;6\\t{&#39;2&#39;: 1, &#39;5&#39;: 2}&#34;,\n &#34;7\\t{&#39;2&#39;: 1, &#39;5&#39;: 1}&#34;,\n &#34;8\\t{&#39;2&#39;: 1, &#39;5&#39;: 1}&#34;,\n &#34;9\\t{&#39;2&#39;: 1, &#39;5&#39;: 1}&#34;,\n &#34;10\\t{&#39;5&#39;: 1}&#34;,\n &#34;11\\t{&#39;5&#39;: 2}&#34;]</div>",
       "datasetInfos": [],
       "metadata": {},
       "removedWidgets": [],
       "type": "html"
      }
     },
     "output_type": "display_data"
    }
   ],
   "source": [
    "testRDD.collect()"
   ]
  },
  {
   "cell_type": "code",
   "execution_count": 0,
   "metadata": {
    "application/vnd.databricks.v1+cell": {
     "inputWidgets": {},
     "nuid": "88b3684d-6548-4015-8a12-069558814b82",
     "showTitle": false,
     "title": ""
    }
   },
   "outputs": [
    {
     "data": {
      "text/html": [
       "<style scoped>\n",
       "  .ansiout {\n",
       "    display: block;\n",
       "    unicode-bidi: embed;\n",
       "    white-space: pre-wrap;\n",
       "    word-wrap: break-word;\n",
       "    word-break: break-all;\n",
       "    font-family: \"Source Code Pro\", \"Menlo\", monospace;;\n",
       "    font-size: 13px;\n",
       "    color: #555;\n",
       "    margin-left: 4px;\n",
       "    line-height: 19px;\n",
       "  }\n",
       "</style>\n",
       "<div class=\"ansiout\">Out[25]: [&#39;! $var = &amp;quot;&amp;quot;\\t1\\t1\\t0&#39;,\n",
       " &#39;! (CONFIG.SYS directive)\\t2\\t1\\t1&#39;,\n",
       " &#39;! (album)\\t3\\t12\\t17&#39;,\n",
       " &#39;! (disambiguation)\\t4\\t1\\t20&#39;,\n",
       " &#39;! -attention-\\t5\\t1\\t0&#39;,\n",
       " &#39;! Time Zone\\t6\\t1\\t0&#39;,\n",
       " &#39;!! (chess)\\t7\\t0\\t1&#39;,\n",
       " &#39;!! (disambiguation)\\t8\\t3\\t0&#39;,\n",
       " &#39;!!! (Chk Chk Chk)\\t9\\t1\\t0&#39;,\n",
       " &#39;!!! (album)\\t10\\t5\\t15&#39;]</div>"
      ]
     },
     "metadata": {
      "application/vnd.databricks.v1+output": {
       "addedWidgets": {},
       "arguments": {},
       "data": "<div class=\"ansiout\">Out[25]: [&#39;! $var = &amp;quot;&amp;quot;\\t1\\t1\\t0&#39;,\n &#39;! (CONFIG.SYS directive)\\t2\\t1\\t1&#39;,\n &#39;! (album)\\t3\\t12\\t17&#39;,\n &#39;! (disambiguation)\\t4\\t1\\t20&#39;,\n &#39;! -attention-\\t5\\t1\\t0&#39;,\n &#39;! Time Zone\\t6\\t1\\t0&#39;,\n &#39;!! (chess)\\t7\\t0\\t1&#39;,\n &#39;!! (disambiguation)\\t8\\t3\\t0&#39;,\n &#39;!!! (Chk Chk Chk)\\t9\\t1\\t0&#39;,\n &#39;!!! (album)\\t10\\t5\\t15&#39;]</div>",
       "datasetInfos": [],
       "metadata": {},
       "removedWidgets": [],
       "type": "html"
      }
     },
     "output_type": "display_data"
    }
   ],
   "source": [
    "# display indexRDD (RUN THIS CELL AS IS)\n",
    "indexRDD.take(10)"
   ]
  },
  {
   "cell_type": "code",
   "execution_count": 0,
   "metadata": {
    "application/vnd.databricks.v1+cell": {
     "inputWidgets": {},
     "nuid": "be41205d-7722-497e-8256-cfd80f749265",
     "showTitle": false,
     "title": ""
    }
   },
   "outputs": [
    {
     "data": {
      "text/html": [
       "<style scoped>\n",
       "  .ansiout {\n",
       "    display: block;\n",
       "    unicode-bidi: embed;\n",
       "    white-space: pre-wrap;\n",
       "    word-wrap: break-word;\n",
       "    word-break: break-all;\n",
       "    font-family: \"Source Code Pro\", \"Menlo\", monospace;;\n",
       "    font-size: 13px;\n",
       "    color: #555;\n",
       "    margin-left: 4px;\n",
       "    line-height: 19px;\n",
       "  }\n",
       "</style>\n",
       "<div class=\"ansiout\">Out[26]: [&#34;73\\t{&#39;14417532&#39;: 1}&#34;,\n",
       " &#34;299\\t{&#39;4214575&#39;: 1}&#34;,\n",
       " &#34;2552\\t{&#39;15043376&#39;: 1, &#39;13430968&#39;: 1, &#39;13451035&#39;: 1, &#39;7263397&#39;: 1, &#39;13001625&#39;: 1, &#39;13443575&#39;: 1, &#39;13451269&#39;: 1, &#39;13432316&#39;: 1, &#39;11623371&#39;: 1, &#39;15028971&#39;: 1, &#39;13425865&#39;: 1, &#39;15042703&#39;: 1, &#39;5051368&#39;: 1, &#39;9854998&#39;: 2, &#39;13442976&#39;: 1, &#39;13315025&#39;: 1, &#39;2992307&#39;: 1, &#39;1054486&#39;: 1, &#39;1322325&#39;: 1, &#39;13450983&#39;: 1}&#34;,\n",
       " &#34;2570\\t{&#39;983991&#39;: 1}&#34;,\n",
       " &#34;2616\\t{&#39;9045350&#39;: 1}&#34;,\n",
       " &#34;2711\\t{&#39;752887&#39;: 1}&#34;,\n",
       " &#34;2818\\t{&#39;3534183&#39;: 1}&#34;,\n",
       " &#34;2847\\t{&#39;3797918&#39;: 1}&#34;,\n",
       " &#34;2892\\t{&#39;2893&#39;: 1}&#34;,\n",
       " &#34;2921\\t{&#39;5158607&#39;: 1, &#39;6007184&#39;: 1, &#39;14773825&#39;: 1, &#39;11777840&#39;: 2, &#39;9285165&#39;: 1, &#39;6420484&#39;: 1, &#39;14670682&#39;: 1, &#39;7316613&#39;: 1, &#39;7125893&#39;: 1, &#39;14965920&#39;: 1, &#39;14229952&#39;: 1, &#39;9447742&#39;: 2, &#39;1425342&#39;: 1, &#39;11390944&#39;: 2, &#39;5141&#39;: 1, &#39;14928135&#39;: 2, &#39;13636570&#39;: 3, &#39;14687433&#39;: 1, &#39;15105458&#39;: 1, &#39;11656072&#39;: 1, &#39;6420027&#39;: 1, &#39;10898196&#39;: 1, &#39;6416278&#39;: 1, &#39;11497740&#39;: 2}&#34;]</div>"
      ]
     },
     "metadata": {
      "application/vnd.databricks.v1+output": {
       "addedWidgets": {},
       "arguments": {},
       "data": "<div class=\"ansiout\">Out[26]: [&#34;73\\t{&#39;14417532&#39;: 1}&#34;,\n &#34;299\\t{&#39;4214575&#39;: 1}&#34;,\n &#34;2552\\t{&#39;15043376&#39;: 1, &#39;13430968&#39;: 1, &#39;13451035&#39;: 1, &#39;7263397&#39;: 1, &#39;13001625&#39;: 1, &#39;13443575&#39;: 1, &#39;13451269&#39;: 1, &#39;13432316&#39;: 1, &#39;11623371&#39;: 1, &#39;15028971&#39;: 1, &#39;13425865&#39;: 1, &#39;15042703&#39;: 1, &#39;5051368&#39;: 1, &#39;9854998&#39;: 2, &#39;13442976&#39;: 1, &#39;13315025&#39;: 1, &#39;2992307&#39;: 1, &#39;1054486&#39;: 1, &#39;1322325&#39;: 1, &#39;13450983&#39;: 1}&#34;,\n &#34;2570\\t{&#39;983991&#39;: 1}&#34;,\n &#34;2616\\t{&#39;9045350&#39;: 1}&#34;,\n &#34;2711\\t{&#39;752887&#39;: 1}&#34;,\n &#34;2818\\t{&#39;3534183&#39;: 1}&#34;,\n &#34;2847\\t{&#39;3797918&#39;: 1}&#34;,\n &#34;2892\\t{&#39;2893&#39;: 1}&#34;,\n &#34;2921\\t{&#39;5158607&#39;: 1, &#39;6007184&#39;: 1, &#39;14773825&#39;: 1, &#39;11777840&#39;: 2, &#39;9285165&#39;: 1, &#39;6420484&#39;: 1, &#39;14670682&#39;: 1, &#39;7316613&#39;: 1, &#39;7125893&#39;: 1, &#39;14965920&#39;: 1, &#39;14229952&#39;: 1, &#39;9447742&#39;: 2, &#39;1425342&#39;: 1, &#39;11390944&#39;: 2, &#39;5141&#39;: 1, &#39;14928135&#39;: 2, &#39;13636570&#39;: 3, &#39;14687433&#39;: 1, &#39;15105458&#39;: 1, &#39;11656072&#39;: 1, &#39;6420027&#39;: 1, &#39;10898196&#39;: 1, &#39;6416278&#39;: 1, &#39;11497740&#39;: 2}&#34;]</div>",
       "datasetInfos": [],
       "metadata": {},
       "removedWidgets": [],
       "type": "html"
      }
     },
     "output_type": "display_data"
    }
   ],
   "source": [
    "# display wikiRDD (RUN THIS CELL AS IS)\n",
    "wikiRDD.take(10)"
   ]
  },
  {
   "cell_type": "markdown",
   "metadata": {
    "application/vnd.databricks.v1+cell": {
     "inputWidgets": {},
     "nuid": "bfeaaa84-ecc8-4fab-8632-72c2c27b0eb7",
     "showTitle": false,
     "title": ""
    }
   },
   "source": [
    "# Question 5: EDA part 1 (number of nodes)\n",
    "\n",
    "As usual, before we dive in to the main analysis, we'll peform some exploratory data anlysis to understand our dataset. Please use the test graph that you downloaded to test all your code before running the full dataset.\n",
    "\n",
    "### Q5 Tasks:\n",
    "* __a) short response:__ In what format is the raw data? What does the first value represent? What does the second part of each line represent? [__`HINT:`__ _no need to go digging here, just visually inspect the outputs of the head commands that we ran after loading the data above._]\n",
    "\n",
    "* __b) code + short response:__ Run the provided bash command to count the number of records in the raw dataset. Explain why this is _not_ the same as the number of total nodes in the graph.\n",
    "\n",
    "* __c) code:__ In the space provided below write a Spark job to count the _total number_ of nodes in this graph. \n",
    "\n",
    "* __d) short response:__ How many dangling nodes are there in this wikipedia graph? [__`HINT:`__ _you should not need any code to answer this question._]"
   ]
  },
  {
   "cell_type": "markdown",
   "metadata": {
    "application/vnd.databricks.v1+cell": {
     "inputWidgets": {},
     "nuid": "d89273e5-dfac-40fc-951b-f4b8572674f2",
     "showTitle": false,
     "title": ""
    }
   },
   "source": [
    "### Q5 Student Answers:\n",
    "> __a)__ The data in `testRDD` appears to be an adjacency list. The first value represents a node id for a given webpage. The second part of each line is a dictionary with keys of linked webpages, or node ids, that the main webpage links to and values for the number of times that webpage is linked in the main webpage. \n",
    "\n",
    "> __b)__ Records in the raw dataset are just pages that include hyperlinks to various other pages. That's what this count of records returns. Pages can exist on wikipedia without containing any hyperlinks to other pages. These pages can still be linked to, particularly by the records we are counting, but do not contain links to other pages themselves. These nodes will not have any out-edges so they will not have a record in the raw dataset, but they will still have in-edges and be referenced in the adjacency lists so they are still part of the graph. These would still be nodes in our graph and contribute to the total number of nodes, but won't be included in the total number of records.\n",
    "\n",
    "> __d)__ The dangling nodes are defined as nodes that do not link to any other nodes, and serve as a sink for edges. Dangling nodes are nodes in the graph that have no outgoing edges (dead-end nodes), i.e., their adjacency lists are empty. We calculate the number of them by subtracting the total number of nodes in the graph by the total number of records in the raw dataset (starting nodes): `15,192,277 - 5,781,290 = 9,410,987`"
   ]
  },
  {
   "cell_type": "code",
   "execution_count": 0,
   "metadata": {
    "application/vnd.databricks.v1+cell": {
     "inputWidgets": {},
     "nuid": "5c3e7420-0fe9-4b11-ba69-157002a57cc4",
     "showTitle": false,
     "title": ""
    }
   },
   "outputs": [
    {
     "data": {
      "text/html": [
       "<style scoped>\n",
       "  .ansiout {\n",
       "    display: block;\n",
       "    unicode-bidi: embed;\n",
       "    white-space: pre-wrap;\n",
       "    word-wrap: break-word;\n",
       "    word-break: break-all;\n",
       "    font-family: \"Source Code Pro\", \"Menlo\", monospace;;\n",
       "    font-size: 13px;\n",
       "    color: #555;\n",
       "    margin-left: 4px;\n",
       "    line-height: 19px;\n",
       "  }\n",
       "</style>\n",
       "<div class=\"ansiout\">5781290\n",
       "</div>"
      ]
     },
     "metadata": {
      "application/vnd.databricks.v1+output": {
       "addedWidgets": {},
       "arguments": {},
       "data": "<div class=\"ansiout\">5781290\n</div>",
       "datasetInfos": [],
       "metadata": {},
       "removedWidgets": [],
       "type": "html"
      }
     },
     "output_type": "display_data"
    }
   ],
   "source": [
    "# part b - count the number of records in the raw data (RUN THIS CELL AS IS)\n",
    "# 5781290\n",
    "print(wikiRDD.count())"
   ]
  },
  {
   "cell_type": "code",
   "execution_count": 0,
   "metadata": {
    "application/vnd.databricks.v1+cell": {
     "inputWidgets": {},
     "nuid": "5859da43-1642-48e1-a171-332f2aa8c567",
     "showTitle": false,
     "title": ""
    }
   },
   "outputs": [
    {
     "data": {
      "text/html": [
       "<style scoped>\n",
       "  .ansiout {\n",
       "    display: block;\n",
       "    unicode-bidi: embed;\n",
       "    white-space: pre-wrap;\n",
       "    word-wrap: break-word;\n",
       "    word-break: break-all;\n",
       "    font-family: \"Source Code Pro\", \"Menlo\", monospace;;\n",
       "    font-size: 13px;\n",
       "    color: #555;\n",
       "    margin-left: 4px;\n",
       "    line-height: 19px;\n",
       "  }\n",
       "</style>\n",
       "<div class=\"ansiout\"></div>"
      ]
     },
     "metadata": {
      "application/vnd.databricks.v1+output": {
       "addedWidgets": {},
       "arguments": {},
       "data": "<div class=\"ansiout\"></div>",
       "datasetInfos": [],
       "metadata": {},
       "removedWidgets": [],
       "type": "html"
      }
     },
     "output_type": "display_data"
    }
   ],
   "source": [
    "# part c - write your Spark job here (compute total number of nodes)\n",
    "def count_nodes(dataRDD):\n",
    "    \"\"\"\n",
    "    Spark job to count the total number of nodes.\n",
    "    Returns: integer count \n",
    "    \"\"\"    \n",
    "    ############## YOUR CODE HERE ###############\n",
    "    def emitNodes(line: str):\n",
    "      \"\"\"\n",
    "      emmit all nodes from the record\n",
    "      input: rawstr example: \"4\\t{'1': 1, '2': 1}\"\n",
    "      output: ['4', '1', '2']\n",
    "      \"\"\"\n",
    "      node, edges_dict_str = line.split('\\t')\n",
    "      edges_dict = ast.literal_eval(edges_dict_str)\n",
    "      return [str(node)] + list(edges_dict.keys())\n",
    "    \n",
    "    totalCount = dataRDD.flatMap(emitNodes) \\\n",
    "                        .distinct() \\\n",
    "                        .count()\n",
    "    \n",
    "    \n",
    "    \n",
    "    ############## (END) YOUR CODE ###############   \n",
    "    return totalCount"
   ]
  },
  {
   "cell_type": "code",
   "execution_count": 0,
   "metadata": {
    "application/vnd.databricks.v1+cell": {
     "inputWidgets": {},
     "nuid": "78ce98ef-76fe-446b-8cbc-b7c7f65c65a9",
     "showTitle": false,
     "title": ""
    }
   },
   "outputs": [
    {
     "data": {
      "text/html": [
       "<style scoped>\n",
       "  .ansiout {\n",
       "    display: block;\n",
       "    unicode-bidi: embed;\n",
       "    white-space: pre-wrap;\n",
       "    word-wrap: break-word;\n",
       "    word-break: break-all;\n",
       "    font-family: \"Source Code Pro\", \"Menlo\", monospace;;\n",
       "    font-size: 13px;\n",
       "    color: #555;\n",
       "    margin-left: 4px;\n",
       "    line-height: 19px;\n",
       "  }\n",
       "</style>\n",
       "<div class=\"ansiout\">... completed job in 0.9062819480895996 seconds.\n",
       "Total Nodes: 11\n",
       "</div>"
      ]
     },
     "metadata": {
      "application/vnd.databricks.v1+output": {
       "addedWidgets": {},
       "arguments": {},
       "data": "<div class=\"ansiout\">... completed job in 0.9062819480895996 seconds.\nTotal Nodes: 11\n</div>",
       "datasetInfos": [],
       "metadata": {},
       "removedWidgets": [],
       "type": "html"
      }
     },
     "output_type": "display_data"
    }
   ],
   "source": [
    "# part c - run your counting job on the test file (RUN THIS CELL AS IS)\n",
    "start = time.time()\n",
    "tot = count_nodes(testRDD)\n",
    "print(f'... completed job in {time.time() - start} seconds.')\n",
    "print(f'Total Nodes: {tot}')"
   ]
  },
  {
   "cell_type": "code",
   "execution_count": 0,
   "metadata": {
    "application/vnd.databricks.v1+cell": {
     "inputWidgets": {},
     "nuid": "04ff64d1-bc68-49bf-92ae-58fa68f89219",
     "showTitle": false,
     "title": ""
    }
   },
   "outputs": [
    {
     "data": {
      "text/html": [
       "<style scoped>\n",
       "  .ansiout {\n",
       "    display: block;\n",
       "    unicode-bidi: embed;\n",
       "    white-space: pre-wrap;\n",
       "    word-wrap: break-word;\n",
       "    word-break: break-all;\n",
       "    font-family: \"Source Code Pro\", \"Menlo\", monospace;;\n",
       "    font-size: 13px;\n",
       "    color: #555;\n",
       "    margin-left: 4px;\n",
       "    line-height: 19px;\n",
       "  }\n",
       "</style>\n",
       "<div class=\"ansiout\">... completed job in 305.6630401611328 seconds.\n",
       "Total Nodes: 15192277\n",
       "</div>"
      ]
     },
     "metadata": {
      "application/vnd.databricks.v1+output": {
       "addedWidgets": {},
       "arguments": {},
       "data": "<div class=\"ansiout\">... completed job in 305.6630401611328 seconds.\nTotal Nodes: 15192277\n</div>",
       "datasetInfos": [],
       "metadata": {},
       "removedWidgets": [],
       "type": "html"
      }
     },
     "output_type": "display_data"
    }
   ],
   "source": [
    "# part c - run your counting job on the full file (RUN THIS CELL AS IS)\n",
    "start = time.time()\n",
    "tot = count_nodes(wikiRDD)\n",
    "print(f'... completed job in {time.time() - start} seconds.')\n",
    "print(f'Total Nodes: {tot}')"
   ]
  },
  {
   "cell_type": "markdown",
   "metadata": {
    "application/vnd.databricks.v1+cell": {
     "inputWidgets": {},
     "nuid": "1086ad2d-8dd1-447e-b41f-3d0f75dd5bd9",
     "showTitle": false,
     "title": ""
    }
   },
   "source": [
    "# Question 6 - EDA part 2 (out-degree distribution)\n",
    "\n",
    "As you've seen in previous homeworks the computational complexity of an implementation depends not only on the number of records in the original dataset but also on the number of records we create and shuffle in our intermediate representation of the data. The number of intermediate records required to update PageRank is related to the number of edges in the graph. In this question you'll compute the average number of hyperlinks on each page in this data and visualize a distribution for these counts (the out-degree of the nodes). \n",
    "\n",
    "### Q6 Tasks:\n",
    "* __a) code:__ In the space provided below write a Spark job to stream over the data and compute all of the following information:\n",
    " * count the out-degree of each non-dangling node and return the names of the top 10 pages with the most hyperlinks\n",
    " * find the average out-degree for all non-dangling nodes in the graph\n",
    " * take a 1000 point sample of these out-degree counts and plot a histogram of the result. \n",
    " \n",
    " \n",
    "* __b) short response:__ In the context of the PageRank algorithm, how is information about a node's out degree used?\n",
    "\n",
    "* __c) short response:__ What does it mean if a node's out-degree is 0? In PageRank how will we handle these nodes differently than others?\n",
    " \n",
    "__`NOTE:`__ Please observe scalability best practices in the design of your code & comment your work clearly. You will be graded on both the clarity and the design."
   ]
  },
  {
   "cell_type": "markdown",
   "metadata": {
    "application/vnd.databricks.v1+cell": {
     "inputWidgets": {},
     "nuid": "97f4190c-129b-4bd0-bfca-b146672087ef",
     "showTitle": false,
     "title": ""
    }
   },
   "source": [
    "### Q6 Student Answers:\n",
    "\n",
    "> __b)__ A node's out-degree is used to divide the node's current PageRank value and redistribute that value (referred to sometimes as 'mass') to each neighbor during a single iteration. \n",
    "\n",
    "> __c)__ A node's out-degree being 0 means this is a dangling node and it serves as a sink for mass being distributed to them because they have no out going edges to redistribute that mass. PageRank must handle these nodes differently to meet the stochasticity requirement for steady state convergence, so it will accumulate the incoming mass to all these nodes in a global total and redistribute it equally to all nodes in the graph each iteration."
   ]
  },
  {
   "cell_type": "code",
   "execution_count": 0,
   "metadata": {
    "application/vnd.databricks.v1+cell": {
     "inputWidgets": {},
     "nuid": "95b96ab4-0210-4bbb-9fcd-e59c4bd64b64",
     "showTitle": false,
     "title": ""
    }
   },
   "outputs": [
    {
     "data": {
      "text/html": [
       "<style scoped>\n",
       "  .ansiout {\n",
       "    display: block;\n",
       "    unicode-bidi: embed;\n",
       "    white-space: pre-wrap;\n",
       "    word-wrap: break-word;\n",
       "    word-break: break-all;\n",
       "    font-family: \"Source Code Pro\", \"Menlo\", monospace;;\n",
       "    font-size: 13px;\n",
       "    color: #555;\n",
       "    margin-left: 4px;\n",
       "    line-height: 19px;\n",
       "  }\n",
       "</style>\n",
       "<div class=\"ansiout\"></div>"
      ]
     },
     "metadata": {
      "application/vnd.databricks.v1+output": {
       "addedWidgets": {},
       "arguments": {},
       "data": "<div class=\"ansiout\"></div>",
       "datasetInfos": [],
       "metadata": {},
       "removedWidgets": [],
       "type": "html"
      }
     },
     "output_type": "display_data"
    }
   ],
   "source": [
    "# part a - write your Spark job here (compute average in-degree, etc)\n",
    "def count_degree(dataRDD, n):\n",
    "    \"\"\"\n",
    "    Function to analyze out-degree of nodes in a a graph.\n",
    "    Returns: \n",
    "        top  - (list of 10 tuples) nodes with most edges\n",
    "        avgDegree - (float) average out-degree for non-dangling nodes\n",
    "        sampledCounts - (list of integers) out-degree for n randomly sampled non-dangling nodes\n",
    "    \"\"\"\n",
    "    # helper func\n",
    "    def parse(line):\n",
    "        node, edges = line.split('\\t')\n",
    "        return (node, ast.literal_eval(edges))\n",
    "    \n",
    "    ############## YOUR CODE HERE ###############\n",
    "    # calculate RDD for getting out-degree of node\n",
    "    # node's out-degree is the sum of all its links\n",
    "    out_deg_RDD = dataRDD.map(parse) \\\n",
    "                          .mapValues(lambda edges_dict: np.sum(list(edges_dict.values()))) \\\n",
    "                          .cache()\n",
    "    \n",
    "    # get the top 10 pages by the out-degree\n",
    "    top = out_deg_RDD.takeOrdered(10, key=lambda x: -x[1])\n",
    "    avgDegree = out_deg_RDD.map(lambda x: x[1]).mean()\n",
    "    sampledCounts = out_deg_RDD.map(lambda x: x[1]).takeSample(False, n, 2018)\n",
    "    \n",
    "    ############## (END) YOUR CODE ###############\n",
    "    \n",
    "    return top, avgDegree, sampledCounts"
   ]
  },
  {
   "cell_type": "code",
   "execution_count": 0,
   "metadata": {
    "application/vnd.databricks.v1+cell": {
     "inputWidgets": {},
     "nuid": "274a6efd-f268-49cd-a8ca-adbe10dbb8e8",
     "showTitle": false,
     "title": ""
    }
   },
   "outputs": [
    {
     "data": {
      "text/html": [
       "<style scoped>\n",
       "  .ansiout {\n",
       "    display: block;\n",
       "    unicode-bidi: embed;\n",
       "    white-space: pre-wrap;\n",
       "    word-wrap: break-word;\n",
       "    word-break: break-all;\n",
       "    font-family: \"Source Code Pro\", \"Menlo\", monospace;;\n",
       "    font-size: 13px;\n",
       "    color: #555;\n",
       "    margin-left: 4px;\n",
       "    line-height: 19px;\n",
       "  }\n",
       "</style>\n",
       "<div class=\"ansiout\">... completed job in 0.5714907646179199 seconds\n",
       "Average out-degree:  2.2\n",
       "Top 10 nodes (by out-degree:)\n",
       " [(&#39;5&#39;, 5), (&#39;6&#39;, 3), (&#39;3&#39;, 2), (&#39;4&#39;, 2), (&#39;7&#39;, 2), (&#39;8&#39;, 2), (&#39;9&#39;, 2), (&#39;11&#39;, 2), (&#39;2&#39;, 1), (&#39;10&#39;, 1)]\n",
       "</div>"
      ]
     },
     "metadata": {
      "application/vnd.databricks.v1+output": {
       "addedWidgets": {},
       "arguments": {},
       "data": "<div class=\"ansiout\">... completed job in 0.5714907646179199 seconds\nAverage out-degree:  2.2\nTop 10 nodes (by out-degree:)\n [(&#39;5&#39;, 5), (&#39;6&#39;, 3), (&#39;3&#39;, 2), (&#39;4&#39;, 2), (&#39;7&#39;, 2), (&#39;8&#39;, 2), (&#39;9&#39;, 2), (&#39;11&#39;, 2), (&#39;2&#39;, 1), (&#39;10&#39;, 1)]\n</div>",
       "datasetInfos": [],
       "metadata": {},
       "removedWidgets": [],
       "type": "html"
      }
     },
     "output_type": "display_data"
    }
   ],
   "source": [
    "# part a - run your job on the test file (RUN THIS CELL AS IS)\n",
    "start = time.time()\n",
    "test_results = count_degree(testRDD,10)\n",
    "print(f\"... completed job in {time.time() - start} seconds\")\n",
    "print(\"Average out-degree: \", test_results[1])\n",
    "print(\"Top 10 nodes (by out-degree:)\\n\", test_results[0])"
   ]
  },
  {
   "cell_type": "code",
   "execution_count": 0,
   "metadata": {
    "application/vnd.databricks.v1+cell": {
     "inputWidgets": {},
     "nuid": "12c2bfd3-c0b1-46d2-a18a-8dc4d851a386",
     "showTitle": false,
     "title": ""
    }
   },
   "outputs": [
    {
     "data": {
      "image/png": "[encoded data removed]"
     },
     "metadata": {
      "application/vnd.databricks.v1+output": {
       "addedWidgets": {},
       "arguments": {},
       "data": "data:image/png;base64,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",
       "datasetInfos": [],
       "metadata": {
        "imageDimensions": {
         "height": 264,
         "width": 362
        }
       },
       "removedWidgets": [],
       "type": "image"
      },
      "image/png": {
       "height": 264,
       "width": 362
      }
     },
     "output_type": "display_data"
    }
   ],
   "source": [
    "# part a - plot results from test file (RUN THIS CELL AS IS)\n",
    "plt.hist(test_results[2], bins=10)\n",
    "plt.title(\"Distribution of Out-Degree\")\n",
    "display(plt.show())"
   ]
  },
  {
   "cell_type": "code",
   "execution_count": 0,
   "metadata": {
    "application/vnd.databricks.v1+cell": {
     "inputWidgets": {},
     "nuid": "8aa64c84-4a84-4061-bc8e-9b40fa5e5b79",
     "showTitle": false,
     "title": ""
    }
   },
   "outputs": [
    {
     "data": {
      "text/html": [
       "<style scoped>\n",
       "  .ansiout {\n",
       "    display: block;\n",
       "    unicode-bidi: embed;\n",
       "    white-space: pre-wrap;\n",
       "    word-wrap: break-word;\n",
       "    word-break: break-all;\n",
       "    font-family: \"Source Code Pro\", \"Menlo\", monospace;;\n",
       "    font-size: 13px;\n",
       "    color: #555;\n",
       "    margin-left: 4px;\n",
       "    line-height: 19px;\n",
       "  }\n",
       "</style>\n",
       "<div class=\"ansiout\">... completed job in 197.37449645996094 seconds\n",
       "Average out-degree:  32.04181575392317\n",
       "Top 10 nodes (by out-degree:)\n",
       " [(&#39;7804599&#39;, 9347), (&#39;7858931&#39;, 8910), (&#39;11185362&#39;, 8837), (&#39;7705822&#39;, 8142), (&#39;5760310&#39;, 7649), (&#39;7865920&#39;, 7608), (&#39;7819767&#39;, 7278), (&#39;7883280&#39;, 7231), (&#39;13035895&#39;, 7126), (&#39;7880980&#39;, 6904)]\n",
       "</div>"
      ]
     },
     "metadata": {
      "application/vnd.databricks.v1+output": {
       "addedWidgets": {},
       "arguments": {},
       "data": "<div class=\"ansiout\">... completed job in 197.37449645996094 seconds\nAverage out-degree:  32.04181575392317\nTop 10 nodes (by out-degree:)\n [(&#39;7804599&#39;, 9347), (&#39;7858931&#39;, 8910), (&#39;11185362&#39;, 8837), (&#39;7705822&#39;, 8142), (&#39;5760310&#39;, 7649), (&#39;7865920&#39;, 7608), (&#39;7819767&#39;, 7278), (&#39;7883280&#39;, 7231), (&#39;13035895&#39;, 7126), (&#39;7880980&#39;, 6904)]\n</div>",
       "datasetInfos": [],
       "metadata": {},
       "removedWidgets": [],
       "type": "html"
      }
     },
     "output_type": "display_data"
    }
   ],
   "source": [
    "# part a - run your job on the full file (RUN THIS CELL AS IS)\n",
    "start = time.time()\n",
    "full_results = count_degree(wikiRDD,1000)\n",
    "\n",
    "print(f\"... completed job in {time.time() - start} seconds\")\n",
    "print(\"Average out-degree: \", full_results[1])\n",
    "print(\"Top 10 nodes (by out-degree:)\\n\", full_results[0])"
   ]
  },
  {
   "cell_type": "code",
   "execution_count": 0,
   "metadata": {
    "application/vnd.databricks.v1+cell": {
     "inputWidgets": {},
     "nuid": "c9a00417-4484-4abf-a750-701cd726c024",
     "showTitle": false,
     "title": ""
    }
   },
   "outputs": [
    {
     "data": {
      "image/png": "[encoded data removed]"
     },
     "metadata": {
      "application/vnd.databricks.v1+output": {
       "addedWidgets": {},
       "arguments": {},
       "data": "data:image/png;base64,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",
       "datasetInfos": [],
       "metadata": {
        "imageDimensions": {
         "height": 264,
         "width": 375
        }
       },
       "removedWidgets": [],
       "type": "image"
      },
      "image/png": {
       "height": 264,
       "width": 375
      }
     },
     "output_type": "display_data"
    }
   ],
   "source": [
    "# part a - plot results from full file (RUN THIS CELL AS IS)\n",
    "plt.hist(full_results[2], bins=50)\n",
    "plt.title(\"Distribution of Out-Degree\")\n",
    "display(plt.show())"
   ]
  },
  {
   "cell_type": "markdown",
   "metadata": {
    "application/vnd.databricks.v1+cell": {
     "inputWidgets": {},
     "nuid": "6f3a83cb-5b19-4818-8eeb-86ed4d0c9a14",
     "showTitle": false,
     "title": ""
    }
   },
   "source": [
    "# Question 7 - PageRank part 1 (Initialize the Graph)\n",
    "\n",
    "One of the challenges of performing distributed graph computation is that you must pass the entire graph structure through each iteration of your algorithm. As usual, we seek to design our computation so that as much work as possible can be done using the contents of a single record. In the case of PageRank, we'll need each record to include a node, its list of neighbors and its (current) rank. In this question you'll initialize the graph by creating a record for each dangling node and by setting the initial rank to 1/N for all nodes. \n",
    "\n",
    "__`NOTE:`__ Your solution should _not_ hard code \\\\(N\\\\).\n",
    "\n",
    "### Q7 Tasks:\n",
    "* __a) short response:__ What is \\\\(N\\\\)? Use the analogy of the infinite random web-surfer to explain why we'll initialize each node's rank to \\\\(\\frac{1}{N}\\\\). (i.e. what is the probabilistic interpretation of this choice?)\n",
    "\n",
    "* __b) short response:__ Will it be more efficient to compute \\\\(N\\\\) before initializing records for each dangling node or after? Explain your reasoning.\n",
    "\n",
    "* __c) code:__ Fill in the missing code below to create a Spark job that:\n",
    "  * parses each input record\n",
    "  * creates a new record for any dangling nodes and sets it list of neighbors to be an empty set\n",
    "  * initializes a rank of 1/N for each node\n",
    "  * returns a pair RDD with records in the format specified by the docstring\n",
    "\n",
    "\n",
    "* __d) code:__ Run the provided code to confirm that your job in `part a` has a record for each node and that your should records match the format specified in the docstring and the count should match what you computed in question 5. [__`TIP:`__ _you might want to take a moment to write out what the expected output should be fore the test graph, this will help you know your code works as expected_]\n",
    " \n",
    "__`NOTE:`__ Please observe scalability best practices in the design of your code & comment your work clearly. You will be graded on both the clarity and the design."
   ]
  },
  {
   "cell_type": "code",
   "execution_count": 0,
   "metadata": {
    "application/vnd.databricks.v1+cell": {
     "inputWidgets": {},
     "nuid": "57819e4c-c2cc-41a0-9b32-b5fb9abc5ef5",
     "showTitle": false,
     "title": ""
    }
   },
   "outputs": [
    {
     "data": {
      "text/html": [
       "<style scoped>\n",
       "  .ansiout {\n",
       "    display: block;\n",
       "    unicode-bidi: embed;\n",
       "    white-space: pre-wrap;\n",
       "    word-wrap: break-word;\n",
       "    word-break: break-all;\n",
       "    font-family: \"Source Code Pro\", \"Menlo\", monospace;;\n",
       "    font-size: 13px;\n",
       "    color: #555;\n",
       "    margin-left: 4px;\n",
       "    line-height: 19px;\n",
       "  }\n",
       "</style>\n",
       "<div class=\"ansiout\">dict_keys([&#39;1&#39;, &#39;2&#39;])\n",
       "{&#39;1&#39;: 2.0, &#39;2&#39;: 3.0}\n",
       "{&#39;1&#39;: 2, &#39;2&#39;: 3, &#39;3&#39;: 2}\n",
       "</div>"
      ]
     },
     "metadata": {
      "application/vnd.databricks.v1+output": {
       "addedWidgets": {},
       "arguments": {},
       "data": "<div class=\"ansiout\">dict_keys([&#39;1&#39;, &#39;2&#39;])\n{&#39;1&#39;: 2.0, &#39;2&#39;: 3.0}\n{&#39;1&#39;: 2, &#39;2&#39;: 3, &#39;3&#39;: 2}\n</div>",
       "datasetInfos": [],
       "metadata": {},
       "removedWidgets": [],
       "type": "html"
      }
     },
     "output_type": "display_data"
    }
   ],
   "source": [
    "temp_dict = {'1':2, '2':3}\n",
    "temp_dict2 = {'3':2, '2':3}\n",
    "print(temp_dict.keys())\n",
    "\n",
    "print({str(k): float(v) for k,v in temp_dict.items()})\n",
    "print({**temp_dict, **temp_dict2})"
   ]
  },
  {
   "cell_type": "markdown",
   "metadata": {
    "application/vnd.databricks.v1+cell": {
     "inputWidgets": {},
     "nuid": "f383a220-a74c-4cf4-b833-b1aa2319bba9",
     "showTitle": false,
     "title": ""
    }
   },
   "source": [
    "### Q7 Student Answers:\n",
    "\n",
    "> __a)__ N is the number of webpages/nodes in the web graph, and we initialize each node's rank to \\\\(\\frac{1}{N}\\\\) because it gives an equal probability initially of the random web-surfer of being on any of these pages at a time *t*. As we do iterations, these PageRank values will move from equal probability to the steady state probability.\n",
    "\n",
    "> __b)__ It would be more efficient to compute N after initializing records because it can be done without a second MR job or shuffle. **NEED TO VERIFY**."
   ]
  },
  {
   "cell_type": "code",
   "execution_count": 0,
   "metadata": {
    "application/vnd.databricks.v1+cell": {
     "inputWidgets": {},
     "nuid": "30dca634-9b03-4a4e-ab11-b2f97c2ff303",
     "showTitle": false,
     "title": ""
    }
   },
   "outputs": [
    {
     "data": {
      "text/html": [
       "<style scoped>\n",
       "  .ansiout {\n",
       "    display: block;\n",
       "    unicode-bidi: embed;\n",
       "    white-space: pre-wrap;\n",
       "    word-wrap: break-word;\n",
       "    word-break: break-all;\n",
       "    font-family: \"Source Code Pro\", \"Menlo\", monospace;;\n",
       "    font-size: 13px;\n",
       "    color: #555;\n",
       "    margin-left: 4px;\n",
       "    line-height: 19px;\n",
       "  }\n",
       "</style>\n",
       "<div class=\"ansiout\"></div>"
      ]
     },
     "metadata": {
      "application/vnd.databricks.v1+output": {
       "addedWidgets": {},
       "arguments": {},
       "data": "<div class=\"ansiout\"></div>",
       "datasetInfos": [],
       "metadata": {},
       "removedWidgets": [],
       "type": "html"
      }
     },
     "output_type": "display_data"
    }
   ],
   "source": [
    "# part c - job to initialize the graph (RUN THIS CELL AS IS)\n",
    "def initGraph(dataRDD):\n",
    "    \"\"\"\n",
    "    Spark job to read in the raw data and initialize an \n",
    "    adjacency list representation with a record for each\n",
    "    node (including dangling nodes).\n",
    "    \n",
    "    Returns: \n",
    "        graphRDD -  a pair RDD of (node_id , (score, edges))\n",
    "        \n",
    "    NOTE: The score should be a float, but you may want to be \n",
    "    strategic about how format the edges... there are a few \n",
    "    options that can work. Make sure that whatever you choose\n",
    "    is sufficient for Question 8 where you'll run PageRank.\n",
    "    \"\"\"\n",
    "    ############## YOUR CODE HERE ###############\n",
    "\n",
    "    # write any helper functions here\n",
    "    def parse(line: str):\n",
    "      \"\"\"\n",
    "      flatMap: emmit all nodes from the record\n",
    "      input: rawstr example: \"4\\t{'1': 2, '2': 1}\"\n",
    "      output: ('1', {}), ('2', {}), ('4', {'1': 2, '2': 1})\n",
    "      \"\"\"\n",
    "      node, edges_dict_str = line.split('\\t')\n",
    "      edges_dict = ast.literal_eval(edges_dict_str)\n",
    "      # emit neighbors with empty neighbor dict\n",
    "      for edge in edges_dict.keys():\n",
    "        yield (str(edge), dict())\n",
    "      # yield this node and its neighbor list preserved\n",
    "      # new_nbr_dict = {str(k): float(v) for k,v in edges_dict.items()}\n",
    "      yield (str(node), edges_dict)\n",
    "      \n",
    "    def combineNbrDict(a: dict, b:dict):\n",
    "      \"\"\"\n",
    "      reduceByKey: combine the nbr dictionaries for the common key\n",
    "      \"\"\"\n",
    "      return {**a, **b}\n",
    "    \n",
    "\n",
    "    \n",
    "    # write your main Spark code here\n",
    "    \n",
    "    # initialize RDD with the adjacency list for every single node in graph\n",
    "    initialRDD = dataRDD.flatMap(parse) \\\n",
    "                        .reduceByKey(combineNbrDict)\n",
    "    \n",
    "    # broadcast the node count\n",
    "    N = sc.broadcast(initialRDD.count())\n",
    "    \n",
    "    # create the graphRDD formated above\n",
    "    graphRDD = initialRDD.mapValues(lambda x: (1/float(N.value), x)).cache()\n",
    "    \n",
    "    \n",
    "    \n",
    "    ############## (END) YOUR CODE ##############\n",
    "    \n",
    "    return graphRDD"
   ]
  },
  {
   "cell_type": "code",
   "execution_count": 0,
   "metadata": {
    "application/vnd.databricks.v1+cell": {
     "inputWidgets": {},
     "nuid": "034cc4eb-93bd-4ad0-b424-b74dd2dd9629",
     "showTitle": false,
     "title": ""
    }
   },
   "outputs": [
    {
     "data": {
      "text/html": [
       "<style scoped>\n",
       "  .ansiout {\n",
       "    display: block;\n",
       "    unicode-bidi: embed;\n",
       "    white-space: pre-wrap;\n",
       "    word-wrap: break-word;\n",
       "    word-break: break-all;\n",
       "    font-family: \"Source Code Pro\", \"Menlo\", monospace;;\n",
       "    font-size: 13px;\n",
       "    color: #555;\n",
       "    margin-left: 4px;\n",
       "    line-height: 19px;\n",
       "  }\n",
       "</style>\n",
       "<div class=\"ansiout\">... test graph initialized in 0.43741607666015625 seconds.\n",
       "Out[38]: [(&#39;1&#39;, (0.09090909090909091, {})),\n",
       " (&#39;4&#39;, (0.09090909090909091, {&#39;1&#39;: 1, &#39;2&#39;: 1})),\n",
       " (&#39;8&#39;, (0.09090909090909091, {&#39;2&#39;: 1, &#39;5&#39;: 1})),\n",
       " (&#39;9&#39;, (0.09090909090909091, {&#39;2&#39;: 1, &#39;5&#39;: 1})),\n",
       " (&#39;10&#39;, (0.09090909090909091, {&#39;5&#39;: 1})),\n",
       " (&#39;3&#39;, (0.09090909090909091, {&#39;2&#39;: 2})),\n",
       " (&#39;2&#39;, (0.09090909090909091, {&#39;3&#39;: 1})),\n",
       " (&#39;6&#39;, (0.09090909090909091, {&#39;2&#39;: 1, &#39;5&#39;: 2})),\n",
       " (&#39;5&#39;, (0.09090909090909091, {&#39;4&#39;: 3, &#39;2&#39;: 1, &#39;6&#39;: 1})),\n",
       " (&#39;7&#39;, (0.09090909090909091, {&#39;2&#39;: 1, &#39;5&#39;: 1})),\n",
       " (&#39;11&#39;, (0.09090909090909091, {&#39;5&#39;: 2}))]</div>"
      ]
     },
     "metadata": {
      "application/vnd.databricks.v1+output": {
       "addedWidgets": {},
       "arguments": {},
       "data": "<div class=\"ansiout\">... test graph initialized in 0.43741607666015625 seconds.\nOut[38]: [(&#39;1&#39;, (0.09090909090909091, {})),\n (&#39;4&#39;, (0.09090909090909091, {&#39;1&#39;: 1, &#39;2&#39;: 1})),\n (&#39;8&#39;, (0.09090909090909091, {&#39;2&#39;: 1, &#39;5&#39;: 1})),\n (&#39;9&#39;, (0.09090909090909091, {&#39;2&#39;: 1, &#39;5&#39;: 1})),\n (&#39;10&#39;, (0.09090909090909091, {&#39;5&#39;: 1})),\n (&#39;3&#39;, (0.09090909090909091, {&#39;2&#39;: 2})),\n (&#39;2&#39;, (0.09090909090909091, {&#39;3&#39;: 1})),\n (&#39;6&#39;, (0.09090909090909091, {&#39;2&#39;: 1, &#39;5&#39;: 2})),\n (&#39;5&#39;, (0.09090909090909091, {&#39;4&#39;: 3, &#39;2&#39;: 1, &#39;6&#39;: 1})),\n (&#39;7&#39;, (0.09090909090909091, {&#39;2&#39;: 1, &#39;5&#39;: 1})),\n (&#39;11&#39;, (0.09090909090909091, {&#39;5&#39;: 2}))]</div>",
       "datasetInfos": [],
       "metadata": {},
       "removedWidgets": [],
       "type": "html"
      }
     },
     "output_type": "display_data"
    }
   ],
   "source": [
    "# part c - run your Spark job on the test graph (RUN THIS CELL AS IS)\n",
    "start = time.time()\n",
    "testGraph = initGraph(testRDD).collect()\n",
    "print(f'... test graph initialized in {time.time() - start} seconds.')\n",
    "testGraph"
   ]
  },
  {
   "cell_type": "code",
   "execution_count": 0,
   "metadata": {
    "application/vnd.databricks.v1+cell": {
     "inputWidgets": {},
     "nuid": "9c8452be-fb1f-4a84-923e-6b4305bbda03",
     "showTitle": false,
     "title": ""
    }
   },
   "outputs": [
    {
     "data": {
      "text/html": [
       "<style scoped>\n",
       "  .ansiout {\n",
       "    display: block;\n",
       "    unicode-bidi: embed;\n",
       "    white-space: pre-wrap;\n",
       "    word-wrap: break-word;\n",
       "    word-break: break-all;\n",
       "    font-family: \"Source Code Pro\", \"Menlo\", monospace;;\n",
       "    font-size: 13px;\n",
       "    color: #555;\n",
       "    margin-left: 4px;\n",
       "    line-height: 19px;\n",
       "  }\n",
       "</style>\n",
       "<div class=\"ansiout\">... full graph initialized in 492.0029571056366 seconds\n",
       "</div>"
      ]
     },
     "metadata": {
      "application/vnd.databricks.v1+output": {
       "addedWidgets": {},
       "arguments": {},
       "data": "<div class=\"ansiout\">... full graph initialized in 492.0029571056366 seconds\n</div>",
       "datasetInfos": [],
       "metadata": {},
       "removedWidgets": [],
       "type": "html"
      }
     },
     "output_type": "display_data"
    }
   ],
   "source": [
    "# part c - run your code on the main graph (RUN THIS CELL AS IS)\n",
    "start = time.time()\n",
    "wikiGraphRDD = initGraph(wikiRDD)\n",
    "print(f'... full graph initialized in {time.time() - start} seconds')"
   ]
  },
  {
   "cell_type": "code",
   "execution_count": 0,
   "metadata": {
    "application/vnd.databricks.v1+cell": {
     "inputWidgets": {},
     "nuid": "fe2c9a8d-1c5b-47a6-9b9b-f62e7889548a",
     "showTitle": false,
     "title": ""
    }
   },
   "outputs": [
    {
     "data": {
      "text/html": [
       "<style scoped>\n",
       "  .ansiout {\n",
       "    display: block;\n",
       "    unicode-bidi: embed;\n",
       "    white-space: pre-wrap;\n",
       "    word-wrap: break-word;\n",
       "    word-break: break-all;\n",
       "    font-family: \"Source Code Pro\", \"Menlo\", monospace;;\n",
       "    font-size: 13px;\n",
       "    color: #555;\n",
       "    margin-left: 4px;\n",
       "    line-height: 19px;\n",
       "  }\n",
       "</style>\n",
       "<div class=\"ansiout\">Total number of records: 15192277\n",
       "First record: [(&#39;15064512&#39;, (6.582291778908455e-08, {}))]\n",
       "... initialization continued: 119.18934941291809 seconds\n",
       "</div>"
      ]
     },
     "metadata": {
      "application/vnd.databricks.v1+output": {
       "addedWidgets": {},
       "arguments": {},
       "data": "<div class=\"ansiout\">Total number of records: 15192277\nFirst record: [(&#39;15064512&#39;, (6.582291778908455e-08, {}))]\n... initialization continued: 119.18934941291809 seconds\n</div>",
       "datasetInfos": [],
       "metadata": {},
       "removedWidgets": [],
       "type": "html"
      }
     },
     "output_type": "display_data"
    }
   ],
   "source": [
    "# part c - confirm record format and count (RUN THIS CELL AS IS)\n",
    "start = time.time()\n",
    "print(f'Total number of records: {wikiGraphRDD.count()}')\n",
    "print(f'First record: {wikiGraphRDD.take(1)}')\n",
    "print(f'... initialization continued: {time.time() - start} seconds')"
   ]
  },
  {
   "cell_type": "markdown",
   "metadata": {
    "application/vnd.databricks.v1+cell": {
     "inputWidgets": {},
     "nuid": "0dcf0700-6867-4354-8fe3-6d9e8d209ae9",
     "showTitle": false,
     "title": ""
    }
   },
   "source": [
    "# Question 8 - PageRank part 2 (Iterate until convergence)\n",
    "\n",
    "Finally we're ready to compute the page rank. In this last question you'll write a Spark job that iterates over the initialized graph updating each nodes score until it reaches a convergence threshold. The diagram below gives a visual overview of the process using a 5 node toy graph. Pay particular attention to what happens to the dangling mass at each iteration.\n",
    "\n",
    "<img src='https://github.com/kyleiwaniec/w261_assets/blob/master/images/HW5/PR-illustrated.png?raw=true' width=50%>\n",
    "\n",
    "\n",
    "\n",
    "__`A Note about Notation:`__ The formula above describes how to compute the updated page rank for a node in the graph. The $P$ on the left hand side of the equation is the new score, and the $P$ on the right hand side of the equation represents the accumulated mass that was re-distributed from all of that node's in-links. Finally, $|G|$ is the number of nodes in the graph (which we've elsewhere refered to as $N$).\n",
    "\n",
    "### Q8 Tasks:\n",
    "* __a) short response:__ In terms of the infinite random walk analogy, interpret the meaning of the first term in the PageRank calculation: $\\alpha * \\frac{1}{|G|}$\n",
    "\n",
    "* __b) short response:__ In the equation for the PageRank calculation above what does $m$ represent and why do we divide it by $|G|$?\n",
    "\n",
    "* __c) short response:__ Keeping track of the total probability mass after each update is a good way to confirm that your algorithm is on track. How much should the total mass be after each iteration?\n",
    "\n",
    "* __d) code:__ Fill in the missing code below to create a Spark job that take the initialized graph as its input then iterates over the graph and for each pass:\n",
    "  * reads in each record and redistributes the node's current score to each of its neighbors\n",
    "  * uses an accumulator to add up the dangling node mass and redistribute it among all the nodes. (_Don't forget to reset this accumulator after each iteration!_)\n",
    "  * uses an accumulator to keep track of the total mass being redistributed.( _This is just for your own check, its not part of the PageRank calculation. Don't forget to reset this accumulator after each iteration._)\n",
    "  * aggregates these partial scores for each node\n",
    "  * applies telportation and damping factors as described in the formula above.\n",
    "  * combine all of the above to compute the PageRank as described by the formula above.\n",
    "  * \n",
    "  \n",
    "   __WARNING:__ Some pages contain multiple hyperlinks to the same destination, please take this into account when redistributing the mass.\n",
    "\n",
    " \n",
    "__`NOTE:`__ Please observe scalability best practices in the design of your code & comment your work clearly. You will be graded on both the clarity and the design."
   ]
  },
  {
   "cell_type": "markdown",
   "metadata": {
    "application/vnd.databricks.v1+cell": {
     "inputWidgets": {},
     "nuid": "33c92d16-7a67-4492-bca2-1be9135fbacb",
     "showTitle": false,
     "title": ""
    }
   },
   "source": [
    "### Q8 Student Answers:\n",
    "\n",
    "> __a)__ This term: $$\\alpha * \\frac{1}{|G|}$$ means that we are adding a probability to this node scaled by a teleportation factor $\\alpha$ to capture the scenario where a random walker is teleporting to this node. A random surfer is equally likely to teleport to any of the nodes in the graph, so the probability is divided by the total number of nodes |G| to make this term equal for all nodes.\n",
    "\n",
    "> __b)__ In the calculation, $m$ represents the Dangling Mass that is accumulated from all the dangling nodes in the graph. We must equally distribute this mass to all nodes in the graph, so that is why we divide it by $|G|$ in the calculation.\n",
    "\n",
    "> __c)__ After each iteration, the total mass should be 1. This is because it is the sum of the probabilities for all nodes in the graph."
   ]
  },
  {
   "cell_type": "code",
   "execution_count": 0,
   "metadata": {
    "application/vnd.databricks.v1+cell": {
     "inputWidgets": {},
     "nuid": "895ef53c-27bc-4749-82b9-81a926782825",
     "showTitle": false,
     "title": ""
    }
   },
   "outputs": [
    {
     "data": {
      "text/html": [
       "<style scoped>\n",
       "  .ansiout {\n",
       "    display: block;\n",
       "    unicode-bidi: embed;\n",
       "    white-space: pre-wrap;\n",
       "    word-wrap: break-word;\n",
       "    word-break: break-all;\n",
       "    font-family: \"Source Code Pro\", \"Menlo\", monospace;;\n",
       "    font-size: 13px;\n",
       "    color: #555;\n",
       "    margin-left: 4px;\n",
       "    line-height: 19px;\n",
       "  }\n",
       "</style>\n",
       "<div class=\"ansiout\"></div>"
      ]
     },
     "metadata": {
      "application/vnd.databricks.v1+output": {
       "addedWidgets": {},
       "arguments": {},
       "data": "<div class=\"ansiout\"></div>",
       "datasetInfos": [],
       "metadata": {},
       "removedWidgets": [],
       "type": "html"
      }
     },
     "output_type": "display_data"
    }
   ],
   "source": [
    "# part d - provided FloatAccumulator class (RUN THIS CELL AS IS)\n",
    "\n",
    "from pyspark.accumulators import AccumulatorParam\n",
    "\n",
    "class FloatAccumulatorParam(AccumulatorParam):\n",
    "    \"\"\"\n",
    "    Custom accumulator for use in page rank to keep track of various masses.\n",
    "    \n",
    "    IMPORTANT: accumulators should only be called inside actions to avoid duplication.\n",
    "    We stringly recommend you use the 'foreach' action in your implementation below.\n",
    "    \"\"\"\n",
    "    def zero(self, value):\n",
    "        return value\n",
    "    def addInPlace(self, val1, val2):\n",
    "        return val1 + val2"
   ]
  },
  {
   "cell_type": "code",
   "execution_count": 0,
   "metadata": {
    "application/vnd.databricks.v1+cell": {
     "inputWidgets": {},
     "nuid": "ff889aa3-2eee-4d55-9bc6-66abd7e2e89b",
     "showTitle": false,
     "title": ""
    }
   },
   "outputs": [
    {
     "data": {
      "text/html": [
       "<style scoped>\n",
       "  .ansiout {\n",
       "    display: block;\n",
       "    unicode-bidi: embed;\n",
       "    white-space: pre-wrap;\n",
       "    word-wrap: break-word;\n",
       "    word-break: break-all;\n",
       "    font-family: \"Source Code Pro\", \"Menlo\", monospace;;\n",
       "    font-size: 13px;\n",
       "    color: #555;\n",
       "    margin-left: 4px;\n",
       "    line-height: 19px;\n",
       "  }\n",
       "</style>\n",
       "<div class=\"ansiout\">Out[42]: 3</div>"
      ]
     },
     "metadata": {
      "application/vnd.databricks.v1+output": {
       "addedWidgets": {},
       "arguments": {},
       "data": "<div class=\"ansiout\">Out[42]: 3</div>",
       "datasetInfos": [],
       "metadata": {},
       "removedWidgets": [],
       "type": "html"
      }
     },
     "output_type": "display_data"
    }
   ],
   "source": [
    "temp = {'2': 1, '5': 2}\n",
    "np.sum([weight for weight in temp.values()])"
   ]
  },
  {
   "cell_type": "code",
   "execution_count": 0,
   "metadata": {
    "application/vnd.databricks.v1+cell": {
     "inputWidgets": {},
     "nuid": "29a2666b-ff7f-46d6-8d9e-84816a7d3181",
     "showTitle": false,
     "title": ""
    }
   },
   "outputs": [
    {
     "data": {
      "text/html": [
       "<style scoped>\n",
       "  .ansiout {\n",
       "    display: block;\n",
       "    unicode-bidi: embed;\n",
       "    white-space: pre-wrap;\n",
       "    word-wrap: break-word;\n",
       "    word-break: break-all;\n",
       "    font-family: \"Source Code Pro\", \"Menlo\", monospace;;\n",
       "    font-size: 13px;\n",
       "    color: #555;\n",
       "    margin-left: 4px;\n",
       "    line-height: 19px;\n",
       "  }\n",
       "</style>\n",
       "<div class=\"ansiout\"></div>"
      ]
     },
     "metadata": {
      "application/vnd.databricks.v1+output": {
       "addedWidgets": {},
       "arguments": {},
       "data": "<div class=\"ansiout\"></div>",
       "datasetInfos": [],
       "metadata": {},
       "removedWidgets": [],
       "type": "html"
      }
     },
     "output_type": "display_data"
    }
   ],
   "source": [
    "# part d - job to run PageRank (RUN THIS CELL AS IS)\n",
    "def runPageRank(graphInitRDD, alpha = 0.15, maxIter = 10, verbose = True):\n",
    "    \"\"\"\n",
    "    Spark job to implement page rank\n",
    "    Args: \n",
    "        graphInitRDD  - pair RDD of (node_id , (score, edges))\n",
    "        alpha         - (float) teleportation factor\n",
    "        maxIter       - (int) stopping criteria (number of iterations)\n",
    "        verbose       - (bool) option to print logging info after each iteration\n",
    "    Returns:\n",
    "        steadyStateRDD - pair RDD of (node_id, pageRank)\n",
    "    \"\"\"\n",
    "    # teleportation:\n",
    "    a = sc.broadcast(alpha)\n",
    "    \n",
    "    # damping factor:\n",
    "    d = sc.broadcast(1-a.value)\n",
    "    \n",
    "    # initialize accumulators for dangling mass & total mass\n",
    "    mmAccum = sc.accumulator(0.0, FloatAccumulatorParam())\n",
    "    totAccum = sc.accumulator(0.0, FloatAccumulatorParam())\n",
    "    \n",
    "    ############## YOUR CODE HERE ###############\n",
    "    \n",
    "    # write your helper functions here, \n",
    "    # please document the purpose of each clearly \n",
    "    # for reference, the master solution has 5 helper functions.\n",
    "    def getEdgeWeight(payload: tuple):\n",
    "      \"\"\"\n",
    "      Used in MapValues: add the total edge weight to each record. Equivalent to edge count for unweighted graphs.\n",
    "      total_weight = 0 for dangling node\n",
    "      Input: (0.09090909090909091, {'2': 1, '5': 2})\n",
    "      Output: (0.09090909090909091, 3, {'2': 1, '5': 2})\n",
    "      \"\"\"\n",
    "      score, edge_dict = payload\n",
    "      if len(edge_dict) == 0:\n",
    "        tot_weight = 0\n",
    "      else:\n",
    "        tot_weight = np.sum([weight for weight in edge_dict.values()]) # get the total weight: sum of edge_weights\n",
    "      return (score, tot_weight, edge_dict)\n",
    "\n",
    "    def accumulateMass(record: tuple, mmAccum, totAccum):\n",
    "      \"\"\"\n",
    "      Used in foreach: takes a record and sends its mass to dangling mass accumulator and/or total mass accumulator\n",
    "      Input: ('4', (0.09090909090909091, 3, {'2': 1, '5': 2}))\n",
    "      \"\"\"\n",
    "      node, (score, tot_weight, edges) = record\n",
    "      # send to dangling mass accumulator if this record is a dangling node\n",
    "      if tot_weight == 0:\n",
    "        mmAccum.add(score)\n",
    "      totAccum.add(score)\n",
    "    \n",
    "    def redistributeMass(record: tuple):\n",
    "      \"\"\"\n",
    "      Used in flatmap: takes in a record and redistributes the node's current score to each of its neighbors\n",
    "      Input: ('4', (0.09090909090909091, 3, {'2': 1, '5': 2}))\n",
    "      Output: ('2', (09090909090909091 * (1/3), 0, {}), ('5', (09090909090909091 * (2/3), 0, {}), ('4', (0, 3, {'2': 1, '5': 2}))\n",
    "      \"\"\"\n",
    "      node, (score, tot_weight, edges) = record\n",
    "      # emit partials for neighbors\n",
    "      if len(edges) != 0:\n",
    "        for k,weight in edges.items():\n",
    "          yield (k, (score * (weight/tot_weight), 0, {}))\n",
    "      # emit graph structure\n",
    "      yield (node, (0, tot_weight, edges))\n",
    "    \n",
    "    def combinePageRank(a, b):\n",
    "      \"\"\"\n",
    "      reduceByKey: combine records\n",
    "      input: (0, 3, {'2': 1, '5': 2}), (.25, 0, {})\n",
    "      output: (0.25, 3, {'2': 1, '5': 2})\n",
    "      \"\"\"\n",
    "      score_a, tot_weight_a, edges_a = a\n",
    "      score_b, tot_weight_b, edges_b = b\n",
    "      \n",
    "      # add up the scores together\n",
    "      score = score_a + score_b\n",
    "      \n",
    "      # pick the larger of the 2 tot_weight's\n",
    "      tot_weight = max(tot_weight_a, tot_weight_b)\n",
    "      \n",
    "      # pick larger of 2 neighbor edges \n",
    "      if len(edges_a) > len(edges_b):\n",
    "        edges = edges_a\n",
    "      else:\n",
    "        edges = edges_b\n",
    "        \n",
    "      return (score, tot_weight, edges)\n",
    "    \n",
    "    def calculatePageRankScore(record, a, d, N, mm):\n",
    "      \"\"\"\n",
    "      Use in map: recalculates PageRank Score with the values for teleportation and dangling mass.\n",
    "      Input: ('4', (0.2, 3, {'2': 1, '5': 2}))\n",
    "      a: teleportation factor\n",
    "      d: damping factor\n",
    "      N: total number of nodes\n",
    "      mm: dangling mass\n",
    "      Output: ('4', (0.13, 3, {'2': 1, '5': 2}))\n",
    "      \n",
    "      \"\"\"\n",
    "      node, (score, tot_weight, edges) = record\n",
    "      score = a*(1/N) + d*( (mm/N) + score )\n",
    "      return (node, (score, tot_weight, edges))\n",
    "    \n",
    "        \n",
    "    # write your main Spark Job here (including the for loop to iterate)\n",
    "    # for reference, the master solution is 21 lines including comments & whitespace\n",
    "    \n",
    "    # add total weight to records\n",
    "    graphRDD = graphInitRDD.mapValues(getEdgeWeight)\n",
    "    N = sc.broadcast(graphRDD.count()) # get total number of records\n",
    "    \n",
    "    # do the iterations\n",
    "    for i in range(maxIter):\n",
    "      # get the total mass, dangling mass accumulated values\n",
    "      graphRDD.foreach(lambda x: accumulateMass(x, mmAccum, totAccum))\n",
    "\n",
    "      \n",
    "      #broadcast the dangling mass value for use in PageRank calculation later\n",
    "      mm = sc.broadcast(mmAccum.value)\n",
    "    \n",
    "      # run PageRank iteration\n",
    "      graphRDD = graphRDD.flatMap(redistributeMass) \\\n",
    "                          .reduceByKey(combinePageRank) \\\n",
    "                          .map(lambda x: calculatePageRankScore(x, a.value, d.value, N.value, mm.value)) \\\n",
    "                          .cache()\n",
    "    \n",
    "      # print verbose results\n",
    "      if verbose:\n",
    "        print(f'STEP {i}: missing mass = {mm.value}, total = {totAccum.value}')\n",
    "      \n",
    "      # reset accumulators\n",
    "      mmAccum = sc.accumulator(0.0, FloatAccumulatorParam())\n",
    "      totAccum = sc.accumulator(0.0, FloatAccumulatorParam())\n",
    "      \n",
    "      \n",
    "    steadyStateRDD = graphRDD.mapValues(lambda x: x[0]) # get the final scores for each node\n",
    "    ############## (END) YOUR CODE ###############\n",
    "    \n",
    "    return steadyStateRDD"
   ]
  },
  {
   "cell_type": "code",
   "execution_count": 0,
   "metadata": {
    "application/vnd.databricks.v1+cell": {
     "inputWidgets": {},
     "nuid": "c2d3caf2-4f9a-496c-9cfb-17fee9eedf95",
     "showTitle": false,
     "title": ""
    }
   },
   "outputs": [
    {
     "data": {
      "text/html": [
       "<style scoped>\n",
       "  .ansiout {\n",
       "    display: block;\n",
       "    unicode-bidi: embed;\n",
       "    white-space: pre-wrap;\n",
       "    word-wrap: break-word;\n",
       "    word-break: break-all;\n",
       "    font-family: \"Source Code Pro\", \"Menlo\", monospace;;\n",
       "    font-size: 13px;\n",
       "    color: #555;\n",
       "    margin-left: 4px;\n",
       "    line-height: 19px;\n",
       "  }\n",
       "</style>\n",
       "<div class=\"ansiout\">...trained 20 iterations in 3.9971609115600586 seconds.\n",
       "Top 20 ranked nodes:\n",
       "Out[88]: [(&#39;2&#39;, 0.3620640495978871),\n",
       " (&#39;3&#39;, 0.333992700474142),\n",
       " (&#39;5&#39;, 0.08506399429624555),\n",
       " (&#39;4&#39;, 0.060309635084734546),\n",
       " (&#39;1&#39;, 0.04255740809817991),\n",
       " (&#39;6&#39;, 0.03138662354831139),\n",
       " (&#39;8&#39;, 0.01692511778009981),\n",
       " (&#39;9&#39;, 0.01692511778009981),\n",
       " (&#39;10&#39;, 0.01692511778009981),\n",
       " (&#39;7&#39;, 0.01692511778009981),\n",
       " (&#39;11&#39;, 0.01692511778009981)]</div>"
      ]
     },
     "metadata": {
      "application/vnd.databricks.v1+output": {
       "addedWidgets": {},
       "arguments": {},
       "data": "<div class=\"ansiout\">...trained 20 iterations in 3.9971609115600586 seconds.\nTop 20 ranked nodes:\nOut[88]: [(&#39;2&#39;, 0.3620640495978871),\n (&#39;3&#39;, 0.333992700474142),\n (&#39;5&#39;, 0.08506399429624555),\n (&#39;4&#39;, 0.060309635084734546),\n (&#39;1&#39;, 0.04255740809817991),\n (&#39;6&#39;, 0.03138662354831139),\n (&#39;8&#39;, 0.01692511778009981),\n (&#39;9&#39;, 0.01692511778009981),\n (&#39;10&#39;, 0.01692511778009981),\n (&#39;7&#39;, 0.01692511778009981),\n (&#39;11&#39;, 0.01692511778009981)]</div>",
       "datasetInfos": [],
       "metadata": {},
       "removedWidgets": [],
       "type": "html"
      }
     },
     "output_type": "display_data"
    }
   ],
   "source": [
    "# part d - run PageRank on the test graph (RUN THIS CELL AS IS)\n",
    "# NOTE: while developing your code you may want turn on the verbose option\n",
    "nIter = 20\n",
    "testGraphRDD = initGraph(testRDD)\n",
    "start = time.time()\n",
    "test_results = runPageRank(testGraphRDD, alpha = 0.15, maxIter = nIter, verbose = False)\n",
    "print(f'...trained {nIter} iterations in {time.time() - start} seconds.')\n",
    "print(f'Top 20 ranked nodes:')\n",
    "test_results.takeOrdered(20, key=lambda x: - x[1])"
   ]
  },
  {
   "cell_type": "markdown",
   "metadata": {
    "application/vnd.databricks.v1+cell": {
     "inputWidgets": {},
     "nuid": "045ea11a-feaf-4392-a23b-77ecaa0809dd",
     "showTitle": false,
     "title": ""
    }
   },
   "source": [
    "__`expected results for the test graph:`__\n",
    "```\n",
    "[(2, 0.3620640495978871),\n",
    " (3, 0.333992700474142),\n",
    " (5, 0.08506399429624555),\n",
    " (4, 0.06030963508473455),\n",
    " (1, 0.04255740809817991),\n",
    " (6, 0.03138662354831139),\n",
    " (8, 0.01692511778009981),\n",
    " (10, 0.01692511778009981),\n",
    " (7, 0.01692511778009981),\n",
    " (9, 0.01692511778009981),\n",
    " (11, 0.01692511778009981)]\n",
    "```"
   ]
  },
  {
   "cell_type": "code",
   "execution_count": 0,
   "metadata": {
    "application/vnd.databricks.v1+cell": {
     "inputWidgets": {},
     "nuid": "2365e763-eeb5-4d18-9f45-e6c6cdee04d7",
     "showTitle": false,
     "title": ""
    }
   },
   "outputs": [
    {
     "data": {
      "text/html": [
       "<style scoped>\n",
       "  .ansiout {\n",
       "    display: block;\n",
       "    unicode-bidi: embed;\n",
       "    white-space: pre-wrap;\n",
       "    word-wrap: break-word;\n",
       "    word-break: break-all;\n",
       "    font-family: \"Source Code Pro\", \"Menlo\", monospace;;\n",
       "    font-size: 13px;\n",
       "    color: #555;\n",
       "    margin-left: 4px;\n",
       "    line-height: 19px;\n",
       "  }\n",
       "</style>\n",
       "<div class=\"ansiout\">STEP 0: missing mass = 0.6194586235839131, total = 0.9999999999336477\n",
       "STEP 1: missing mass = 0.4962366552052515, total = 0.9999999999744071\n",
       "STEP 2: missing mass = 0.45845896638838757, total = 0.999999999979573\n",
       "STEP 3: missing mass = 0.44518624578839316, total = 0.9999999999747424\n",
       "STEP 4: missing mass = 0.44020147817974753, total = 0.9999999999792599\n",
       "STEP 5: missing mass = 0.43818412109073224, total = 0.9999999999821725\n",
       "STEP 6: missing mass = 0.43732676185870634, total = 0.9999999999853733\n",
       "STEP 7: missing mass = 0.4369451581408971, total = 0.9999999999927052\n",
       "STEP 8: missing mass = 0.4367684897169974, total = 0.9999999999925002\n",
       "STEP 9: missing mass = 0.4366834304247518, total = 0.9999999999904636\n",
       "...trained 10 iterations in 8701.27070403099 seconds.\n",
       "Top 20 ranked nodes:\n",
       "Out[89]: [(&#39;13455888&#39;, 0.0015447247129693911),\n",
       " (&#39;4695850&#39;, 0.0006710240718848092),\n",
       " (&#39;5051368&#39;, 0.0005983856809695475),\n",
       " (&#39;1184351&#39;, 0.0005982073536424897),\n",
       " (&#39;2437837&#39;, 0.0004624928928899071),\n",
       " (&#39;6076759&#39;, 0.0004550940064106147),\n",
       " (&#39;4196067&#39;, 0.0004423778888333771),\n",
       " (&#39;13425865&#39;, 0.0004415535171391712),\n",
       " (&#39;6172466&#39;, 0.0004224002001809195),\n",
       " (&#39;1384888&#39;, 0.0004012895604045914),\n",
       " (&#39;6113490&#39;, 0.0003957892477153099),\n",
       " (&#39;14112583&#39;, 0.0003943847283716383),\n",
       " (&#39;7902219&#39;, 0.00037009878473248447),\n",
       " (&#39;10390714&#39;, 0.00036502649642948683),\n",
       " (&#39;12836211&#39;, 0.0003619948863075223),\n",
       " (&#39;6237129&#39;, 0.00035195558475935963),\n",
       " (&#39;6416278&#39;, 0.00034866235644963236),\n",
       " (&#39;13432150&#39;, 0.00033936510637098646),\n",
       " (&#39;1516699&#39;, 0.00033297500285947053),\n",
       " (&#39;7990491&#39;, 0.00030760906265574314)]</div>"
      ]
     },
     "metadata": {
      "application/vnd.databricks.v1+output": {
       "addedWidgets": {},
       "arguments": {},
       "data": "<div class=\"ansiout\">STEP 0: missing mass = 0.6194586235839131, total = 0.9999999999336477\nSTEP 1: missing mass = 0.4962366552052515, total = 0.9999999999744071\nSTEP 2: missing mass = 0.45845896638838757, total = 0.999999999979573\nSTEP 3: missing mass = 0.44518624578839316, total = 0.9999999999747424\nSTEP 4: missing mass = 0.44020147817974753, total = 0.9999999999792599\nSTEP 5: missing mass = 0.43818412109073224, total = 0.9999999999821725\nSTEP 6: missing mass = 0.43732676185870634, total = 0.9999999999853733\nSTEP 7: missing mass = 0.4369451581408971, total = 0.9999999999927052\nSTEP 8: missing mass = 0.4367684897169974, total = 0.9999999999925002\nSTEP 9: missing mass = 0.4366834304247518, total = 0.9999999999904636\n...trained 10 iterations in 8701.27070403099 seconds.\nTop 20 ranked nodes:\nOut[89]: [(&#39;13455888&#39;, 0.0015447247129693911),\n (&#39;4695850&#39;, 0.0006710240718848092),\n (&#39;5051368&#39;, 0.0005983856809695475),\n (&#39;1184351&#39;, 0.0005982073536424897),\n (&#39;2437837&#39;, 0.0004624928928899071),\n (&#39;6076759&#39;, 0.0004550940064106147),\n (&#39;4196067&#39;, 0.0004423778888333771),\n (&#39;13425865&#39;, 0.0004415535171391712),\n (&#39;6172466&#39;, 0.0004224002001809195),\n (&#39;1384888&#39;, 0.0004012895604045914),\n (&#39;6113490&#39;, 0.0003957892477153099),\n (&#39;14112583&#39;, 0.0003943847283716383),\n (&#39;7902219&#39;, 0.00037009878473248447),\n (&#39;10390714&#39;, 0.00036502649642948683),\n (&#39;12836211&#39;, 0.0003619948863075223),\n (&#39;6237129&#39;, 0.00035195558475935963),\n (&#39;6416278&#39;, 0.00034866235644963236),\n (&#39;13432150&#39;, 0.00033936510637098646),\n (&#39;1516699&#39;, 0.00033297500285947053),\n (&#39;7990491&#39;, 0.00030760906265574314)]</div>",
       "datasetInfos": [],
       "metadata": {},
       "removedWidgets": [],
       "type": "html"
      }
     },
     "output_type": "display_data"
    }
   ],
   "source": [
    "# part d - run PageRank on the full graph (RUN THIS CELL AS IS)\n",
    "# NOTE: wikiGraphRDD should have been computed & cached above!\n",
    "nIter = 10\n",
    "start = time.time()\n",
    "full_results = runPageRank(wikiGraphRDD, alpha = 0.15, maxIter = nIter, verbose = True)\n",
    "print(f'...trained {nIter} iterations in {time.time() - start} seconds.')\n",
    "print(f'Top 20 ranked nodes:')\n",
    "full_results.takeOrdered(20, key=lambda x: - x[1])"
   ]
  },
  {
   "cell_type": "code",
   "execution_count": 0,
   "metadata": {
    "application/vnd.databricks.v1+cell": {
     "inputWidgets": {},
     "nuid": "bb49e440-cb22-4b80-9be6-a75766b940b8",
     "showTitle": false,
     "title": ""
    }
   },
   "outputs": [
    {
     "data": {
      "text/html": [
       "<style scoped>\n",
       "  .ansiout {\n",
       "    display: block;\n",
       "    unicode-bidi: embed;\n",
       "    white-space: pre-wrap;\n",
       "    word-wrap: break-word;\n",
       "    word-break: break-all;\n",
       "    font-family: \"Source Code Pro\", \"Menlo\", monospace;;\n",
       "    font-size: 13px;\n",
       "    color: #555;\n",
       "    margin-left: 4px;\n",
       "    line-height: 19px;\n",
       "  }\n",
       "</style>\n",
       "<div class=\"ansiout\"></div>"
      ]
     },
     "metadata": {
      "application/vnd.databricks.v1+output": {
       "addedWidgets": {},
       "arguments": {},
       "data": "<div class=\"ansiout\"></div>",
       "datasetInfos": [],
       "metadata": {},
       "removedWidgets": [],
       "type": "html"
      }
     },
     "output_type": "display_data"
    }
   ],
   "source": [
    "top_20 = full_results.takeOrdered(20, key=lambda x: - x[1])"
   ]
  },
  {
   "cell_type": "code",
   "execution_count": 0,
   "metadata": {
    "application/vnd.databricks.v1+cell": {
     "inputWidgets": {},
     "nuid": "ce8b53e1-9574-4807-95c6-ca2e91e22b9a",
     "showTitle": false,
     "title": ""
    }
   },
   "outputs": [
    {
     "data": {
      "text/html": [
       "<style scoped>\n",
       "  .ansiout {\n",
       "    display: block;\n",
       "    unicode-bidi: embed;\n",
       "    white-space: pre-wrap;\n",
       "    word-wrap: break-word;\n",
       "    word-break: break-all;\n",
       "    font-family: \"Source Code Pro\", \"Menlo\", monospace;;\n",
       "    font-size: 13px;\n",
       "    color: #555;\n",
       "    margin-left: 4px;\n",
       "    line-height: 19px;\n",
       "  }\n",
       "</style>\n",
       "<div class=\"ansiout\">Out[99]: [(&#39;13455888&#39;, 0.0015447247129693911),\n",
       " (&#39;4695850&#39;, 0.0006710240718848092),\n",
       " (&#39;5051368&#39;, 0.0005983856809695475),\n",
       " (&#39;1184351&#39;, 0.0005982073536424897),\n",
       " (&#39;2437837&#39;, 0.0004624928928899071),\n",
       " (&#39;6076759&#39;, 0.0004550940064106147),\n",
       " (&#39;4196067&#39;, 0.0004423778888333771),\n",
       " (&#39;13425865&#39;, 0.0004415535171391712),\n",
       " (&#39;6172466&#39;, 0.0004224002001809195),\n",
       " (&#39;1384888&#39;, 0.0004012895604045914),\n",
       " (&#39;6113490&#39;, 0.0003957892477153099),\n",
       " (&#39;14112583&#39;, 0.0003943847283716383),\n",
       " (&#39;7902219&#39;, 0.00037009878473248447),\n",
       " (&#39;10390714&#39;, 0.00036502649642948683),\n",
       " (&#39;12836211&#39;, 0.0003619948863075223),\n",
       " (&#39;6237129&#39;, 0.00035195558475935963),\n",
       " (&#39;6416278&#39;, 0.00034866235644963236),\n",
       " (&#39;13432150&#39;, 0.00033936510637098646),\n",
       " (&#39;1516699&#39;, 0.00033297500285947053),\n",
       " (&#39;7990491&#39;, 0.00030760906265574314)]</div>"
      ]
     },
     "metadata": {
      "application/vnd.databricks.v1+output": {
       "addedWidgets": {},
       "arguments": {},
       "data": "<div class=\"ansiout\">Out[99]: [(&#39;13455888&#39;, 0.0015447247129693911),\n (&#39;4695850&#39;, 0.0006710240718848092),\n (&#39;5051368&#39;, 0.0005983856809695475),\n (&#39;1184351&#39;, 0.0005982073536424897),\n (&#39;2437837&#39;, 0.0004624928928899071),\n (&#39;6076759&#39;, 0.0004550940064106147),\n (&#39;4196067&#39;, 0.0004423778888333771),\n (&#39;13425865&#39;, 0.0004415535171391712),\n (&#39;6172466&#39;, 0.0004224002001809195),\n (&#39;1384888&#39;, 0.0004012895604045914),\n (&#39;6113490&#39;, 0.0003957892477153099),\n (&#39;14112583&#39;, 0.0003943847283716383),\n (&#39;7902219&#39;, 0.00037009878473248447),\n (&#39;10390714&#39;, 0.00036502649642948683),\n (&#39;12836211&#39;, 0.0003619948863075223),\n (&#39;6237129&#39;, 0.00035195558475935963),\n (&#39;6416278&#39;, 0.00034866235644963236),\n (&#39;13432150&#39;, 0.00033936510637098646),\n (&#39;1516699&#39;, 0.00033297500285947053),\n (&#39;7990491&#39;, 0.00030760906265574314)]</div>",
       "datasetInfos": [],
       "metadata": {},
       "removedWidgets": [],
       "type": "html"
      }
     },
     "output_type": "display_data"
    }
   ],
   "source": [
    "top_20"
   ]
  },
  {
   "cell_type": "code",
   "execution_count": 0,
   "metadata": {
    "application/vnd.databricks.v1+cell": {
     "inputWidgets": {},
     "nuid": "4c4e6e88-0b20-4427-bcae-df03496695b9",
     "showTitle": false,
     "title": ""
    }
   },
   "outputs": [
    {
     "data": {
      "text/html": [
       "<style scoped>\n",
       "  .ansiout {\n",
       "    display: block;\n",
       "    unicode-bidi: embed;\n",
       "    white-space: pre-wrap;\n",
       "    word-wrap: break-word;\n",
       "    word-break: break-all;\n",
       "    font-family: \"Source Code Pro\", \"Menlo\", monospace;;\n",
       "    font-size: 13px;\n",
       "    color: #555;\n",
       "    margin-left: 4px;\n",
       "    line-height: 19px;\n",
       "  }\n",
       "</style>\n",
       "<div class=\"ansiout\"></div>"
      ]
     },
     "metadata": {
      "application/vnd.databricks.v1+output": {
       "addedWidgets": {},
       "arguments": {},
       "data": "<div class=\"ansiout\"></div>",
       "datasetInfos": [],
       "metadata": {},
       "removedWidgets": [],
       "type": "html"
      }
     },
     "output_type": "display_data"
    }
   ],
   "source": [
    "# Put at the top of any notebooks for storing in blob\n",
    "\n",
    "from pyspark.sql.functions import col, max\n",
    "\n",
    "# Save the top_20 results to disc for use later. So you don't have to rerun everything if you restart the cluster.\n",
    "blob_container = \"team06\" # The name of your container created in https://portal.azure.com\n",
    "storage_account = \"apatel\" # The name of your Storage account created in https://portal.azure.com\n",
    "secret_scope = \"team06\" # The name of the scope created in your local computer using the Databricks CLI\n",
    "secret_key = \"team06\" # The name of the secret key created in your local computer using the Databricks CLI \n",
    "blob_url = f\"wasbs://{blob_container}@{storage_account}.blob.core.windows.net\"\n",
    "mount_path = \"/mnt/mids-w261\"\n",
    "\n",
    "with open(f\"HW5_top20_RDD.data\", \"wb\") as fp:   #Pickling\n",
    "  pickle.dump(top_20, fp)\n",
    "\n",
    "# top_20.saveAsTextFile(f\"{blob_url}/HW5_top20_RDD\") # Couldn't figure out how to save list to blob storage"
   ]
  },
  {
   "cell_type": "code",
   "execution_count": 0,
   "metadata": {
    "application/vnd.databricks.v1+cell": {
     "inputWidgets": {},
     "nuid": "633bd45d-a9ab-49a3-8b36-cba73683a7ff",
     "showTitle": false,
     "title": ""
    }
   },
   "outputs": [
    {
     "data": {
      "text/html": [
       "<style scoped>\n",
       "  .ansiout {\n",
       "    display: block;\n",
       "    unicode-bidi: embed;\n",
       "    white-space: pre-wrap;\n",
       "    word-wrap: break-word;\n",
       "    word-break: break-all;\n",
       "    font-family: \"Source Code Pro\", \"Menlo\", monospace;;\n",
       "    font-size: 13px;\n",
       "    color: #555;\n",
       "    margin-left: 4px;\n",
       "    line-height: 19px;\n",
       "  }\n",
       "</style>\n",
       "<div class=\"ansiout\">Out[107]: [&#39;! $var = &amp;quot;&amp;quot;\\t1\\t1\\t0&#39;]</div>"
      ]
     },
     "metadata": {
      "application/vnd.databricks.v1+output": {
       "addedWidgets": {},
       "arguments": {},
       "data": "<div class=\"ansiout\">Out[107]: [&#39;! $var = &amp;quot;&amp;quot;\\t1\\t1\\t0&#39;]</div>",
       "datasetInfos": [],
       "metadata": {},
       "removedWidgets": [],
       "type": "html"
      }
     },
     "output_type": "display_data"
    }
   ],
   "source": [
    "# view record from indexRDD (RUN THIS CELL AS IS)\n",
    "# title\\t indx\\t inDeg\\t outDeg\n",
    "indexRDD.take(1)"
   ]
  },
  {
   "cell_type": "code",
   "execution_count": 0,
   "metadata": {
    "application/vnd.databricks.v1+cell": {
     "inputWidgets": {},
     "nuid": "45fd2ee9-6361-4132-9dd9-53ea3a45930d",
     "showTitle": false,
     "title": ""
    }
   },
   "outputs": [
    {
     "data": {
      "text/html": [
       "<style scoped>\n",
       "  .ansiout {\n",
       "    display: block;\n",
       "    unicode-bidi: embed;\n",
       "    white-space: pre-wrap;\n",
       "    word-wrap: break-word;\n",
       "    word-break: break-all;\n",
       "    font-family: \"Source Code Pro\", \"Menlo\", monospace;;\n",
       "    font-size: 13px;\n",
       "    color: #555;\n",
       "    margin-left: 4px;\n",
       "    line-height: 19px;\n",
       "  }\n",
       "</style>\n",
       "<div class=\"ansiout\"></div>"
      ]
     },
     "metadata": {
      "application/vnd.databricks.v1+output": {
       "addedWidgets": {},
       "arguments": {},
       "data": "<div class=\"ansiout\"></div>",
       "datasetInfos": [],
       "metadata": {},
       "removedWidgets": [],
       "type": "html"
      }
     },
     "output_type": "display_data"
    }
   ],
   "source": [
    "# map indexRDD to new format (index, name) (RUN THIS CELL AS IS)\n",
    "namesKV_RDD = indexRDD.map(lambda x: (int(x.split('\\t')[1]), x.split('\\t')[0]))"
   ]
  },
  {
   "cell_type": "code",
   "execution_count": 0,
   "metadata": {
    "application/vnd.databricks.v1+cell": {
     "inputWidgets": {},
     "nuid": "6039b9c1-fb99-4362-84fa-e60aeeb8e7c7",
     "showTitle": false,
     "title": ""
    }
   },
   "outputs": [
    {
     "data": {
      "text/html": [
       "<style scoped>\n",
       "  .ansiout {\n",
       "    display: block;\n",
       "    unicode-bidi: embed;\n",
       "    white-space: pre-wrap;\n",
       "    word-wrap: break-word;\n",
       "    word-break: break-all;\n",
       "    font-family: \"Source Code Pro\", \"Menlo\", monospace;;\n",
       "    font-size: 13px;\n",
       "    color: #555;\n",
       "    margin-left: 4px;\n",
       "    line-height: 19px;\n",
       "  }\n",
       "</style>\n",
       "<div class=\"ansiout\">Out[109]: [(1, &#39;! $var = &amp;quot;&amp;quot;&#39;), (2, &#39;! (CONFIG.SYS directive)&#39;)]</div>"
      ]
     },
     "metadata": {
      "application/vnd.databricks.v1+output": {
       "addedWidgets": {},
       "arguments": {},
       "data": "<div class=\"ansiout\">Out[109]: [(1, &#39;! $var = &amp;quot;&amp;quot;&#39;), (2, &#39;! (CONFIG.SYS directive)&#39;)]</div>",
       "datasetInfos": [],
       "metadata": {},
       "removedWidgets": [],
       "type": "html"
      }
     },
     "output_type": "display_data"
    }
   ],
   "source": [
    "# see new format (RUN THIS CELL AS IS)\n",
    "namesKV_RDD.take(2)"
   ]
  },
  {
   "cell_type": "code",
   "execution_count": 0,
   "metadata": {
    "application/vnd.databricks.v1+cell": {
     "inputWidgets": {},
     "nuid": "c84ae603-90d0-4819-ad17-4aaf2f94dc1e",
     "showTitle": false,
     "title": ""
    }
   },
   "outputs": [
    {
     "data": {
      "text/html": [
       "<style scoped>\n",
       "  .ansiout {\n",
       "    display: block;\n",
       "    unicode-bidi: embed;\n",
       "    white-space: pre-wrap;\n",
       "    word-wrap: break-word;\n",
       "    word-break: break-all;\n",
       "    font-family: \"Source Code Pro\", \"Menlo\", monospace;;\n",
       "    font-size: 13px;\n",
       "    color: #555;\n",
       "    margin-left: 4px;\n",
       "    line-height: 19px;\n",
       "  }\n",
       "</style>\n",
       "<div class=\"ansiout\"></div>"
      ]
     },
     "metadata": {
      "application/vnd.databricks.v1+output": {
       "addedWidgets": {},
       "arguments": {},
       "data": "<div class=\"ansiout\"></div>",
       "datasetInfos": [],
       "metadata": {},
       "removedWidgets": [],
       "type": "html"
      }
     },
     "output_type": "display_data"
    }
   ],
   "source": [
    "# read back top 20 from blob\n",
    "# top_20_RDD_readback = sc.textFile(f\"{blob_url}/HW5_top20_RDD\")"
   ]
  },
  {
   "cell_type": "code",
   "execution_count": 0,
   "metadata": {
    "application/vnd.databricks.v1+cell": {
     "inputWidgets": {},
     "nuid": "0af620db-c79b-4584-a238-c7ae3c8bf019",
     "showTitle": false,
     "title": ""
    }
   },
   "outputs": [
    {
     "data": {
      "text/html": [
       "<style scoped>\n",
       "  .ansiout {\n",
       "    display: block;\n",
       "    unicode-bidi: embed;\n",
       "    white-space: pre-wrap;\n",
       "    word-wrap: break-word;\n",
       "    word-break: break-all;\n",
       "    font-family: \"Source Code Pro\", \"Menlo\", monospace;;\n",
       "    font-size: 13px;\n",
       "    color: #555;\n",
       "    margin-left: 4px;\n",
       "    line-height: 19px;\n",
       "  }\n",
       "</style>\n",
       "<div class=\"ansiout\"></div>"
      ]
     },
     "metadata": {
      "application/vnd.databricks.v1+output": {
       "addedWidgets": {},
       "arguments": {},
       "data": "<div class=\"ansiout\"></div>",
       "datasetInfos": [],
       "metadata": {},
       "removedWidgets": [],
       "type": "html"
      }
     },
     "output_type": "display_data"
    }
   ],
   "source": [
    "with open('HW5_top20_RDD.data', 'rb') as filehandle:\n",
    "    # read the data as binary data stream\n",
    "    top_20_readback = pickle.load(filehandle)\n",
    "\n",
    "top_20_RDD_readback = sc.parallelize(top_20_readback)"
   ]
  },
  {
   "cell_type": "code",
   "execution_count": 0,
   "metadata": {
    "application/vnd.databricks.v1+cell": {
     "inputWidgets": {},
     "nuid": "26fae4f3-abb3-4e83-a70a-86511981e723",
     "showTitle": false,
     "title": ""
    }
   },
   "outputs": [
    {
     "data": {
      "text/html": [
       "<style scoped>\n",
       "  .ansiout {\n",
       "    display: block;\n",
       "    unicode-bidi: embed;\n",
       "    white-space: pre-wrap;\n",
       "    word-wrap: break-word;\n",
       "    word-break: break-all;\n",
       "    font-family: \"Source Code Pro\", \"Menlo\", monospace;;\n",
       "    font-size: 13px;\n",
       "    color: #555;\n",
       "    margin-left: 4px;\n",
       "    line-height: 19px;\n",
       "  }\n",
       "</style>\n",
       "<div class=\"ansiout\">Out[111]: [(&#39;13455888&#39;, 0.0015447247129693911)]</div>"
      ]
     },
     "metadata": {
      "application/vnd.databricks.v1+output": {
       "addedWidgets": {},
       "arguments": {},
       "data": "<div class=\"ansiout\">Out[111]: [(&#39;13455888&#39;, 0.0015447247129693911)]</div>",
       "datasetInfos": [],
       "metadata": {},
       "removedWidgets": [],
       "type": "html"
      }
     },
     "output_type": "display_data"
    }
   ],
   "source": [
    "top_20_RDD_readback.take(1)"
   ]
  },
  {
   "cell_type": "markdown",
   "metadata": {},
   "source": [
    "# OPTIONAL\n",
    "The indexRDD we created earlier from the indices.txt file contains the titles of the pages and thier IDs.\n",
    "\n",
    "* __a) code:__ Join this dataset with your top 20 results.\n",
    "* __b) code:__ Print the results"
   ]
  },
  {
   "cell_type": "code",
   "execution_count": null,
   "metadata": {},
   "outputs": [],
   "source": [
    "# part a\n",
    "joinedWithNames = None\n",
    "############## YOUR CODE HERE ###############\n",
    "joinedWithNames = namesKV_RDD.join(top_20_RDD) \\\n",
    "                             .sortBy(ascending=False, keyfunc=lambda k: k[1][1]) \\\n",
    "                             .collect()\n",
    "############## END YOUR CODE ###############"
   ]
  },
  {
   "cell_type": "code",
   "execution_count": null,
   "metadata": {},
   "outputs": [],
   "source": [
    "# part b\n",
    "# Feel free to modify this cell to suit your implementation, but please keep the formatting and sort order.\n",
    "print(\"{:10s}\\t| {:10s}\\t| {}\".format(\"PageRank\",\"Page id\",\"Title\"))\n",
    "print(\"=\"*100)\n",
    "for r in joinedWithNames:\n",
    "    print (\"{:6f}\\t| {:10d}\\t| {}\".format(r[1][1],r[0],r[1][0]))"
   ]
  },
  {
   "cell_type": "markdown",
   "metadata": {},
   "source": [
    "```\n",
    "PageRank  \t| Page id   \t| Title\n",
    "====================================================================================================\n",
    "0.001545\t|   13455888\t| United States\n",
    "0.000671\t|    4695850\t| France\n",
    "0.000598\t|    5051368\t| Germany\n",
    "0.000598\t|    1184351\t| Animal\n",
    "0.000462\t|    2437837\t| Canada\n",
    "0.000455\t|    6076759\t| India\n",
    "0.000442\t|    4196067\t| England\n",
    "0.000442\t|   13425865\t| United Kingdom\n",
    "0.000422\t|    6172466\t| Iran\n",
    "0.000401\t|    1384888\t| Arthropod\n",
    "0.000396\t|    6113490\t| Insect\n",
    "0.000394\t|   14112583\t| World War II\n",
    "0.000370\t|    7902219\t| List of sovereign states\n",
    "0.000365\t|   10390714\t| Poland\n",
    "0.000362\t|   12836211\t| The New York Times\n",
    "0.000352\t|    6237129\t| Italy\n",
    "0.000349\t|    6416278\t| Japan\n",
    "0.000339\t|   13432150\t| United States Census Bureau\n",
    "0.000333\t|    1516699\t| Australia\n",
    "0.000308\t|    7990491\t| London\n",
    "```"
   ]
  }
 ],
 "metadata": {
  "application/vnd.databricks.v1+notebook": {
   "dashboards": [],
   "language": "python",
   "notebookMetadata": {
    "pythonIndentUnit": 2
   },
   "notebookName": "hw5_workbook_anand",
   "notebookOrigID": 2093661302995709,
   "widgets": {}
  },
  "kernelspec": {
   "display_name": "Python 3",
   "language": "python",
   "name": "python3"
  },
  "language_info": {
   "codemirror_mode": {
    "name": "ipython",
    "version": 3
   },
   "file_extension": ".py",
   "mimetype": "text/x-python",
   "name": "python",
   "nbconvert_exporter": "python",
   "pygments_lexer": "ipython3",
   "version": "3.7.6"
  }
 },
 "nbformat": 4,
 "nbformat_minor": 1
}
